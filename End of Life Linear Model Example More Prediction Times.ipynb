{
 "cells": [
  {
   "cell_type": "markdown",
   "metadata": {},
   "source": [
    "## Imports"
   ]
  },
  {
   "cell_type": "code",
   "execution_count": 1,
   "metadata": {},
   "outputs": [],
   "source": [
    "import sys\n",
    "import time\n",
    "import importlib\n",
    "import sparse\n",
    "import datetime\n",
    "import pandas as pd\n",
    "import numpy as np\n",
    "import scipy.sparse\n",
    "import matplotlib.pyplot as plt\n",
    "\n",
    "import Utils.dbutils as dbutils\n",
    "import Utils.data_utils as data_utils\n",
    "import Generators.CohortGenerator as CohortGenerator\n",
    "import Generators.FeatureGenerator as FeatureGenerator\n",
    "import config\n",
    "local_imports = (\n",
    "    dbutils,\n",
    "    data_utils,\n",
    "    CohortGenerator,\n",
    "    FeatureGenerator,\n",
    "    config\n",
    ")\n",
    "for i in local_imports:\n",
    "    i = importlib.reload(i)"
   ]
  },
  {
   "cell_type": "markdown",
   "metadata": {},
   "source": [
    "## Cohort, Outcome and Feature Collection\n",
    "\n",
    "### 1. Set up a connection to the OMOP CDM database\n",
    "\n",
    "Parameters for connection to be specified in ./config.py"
   ]
  },
  {
   "cell_type": "code",
   "execution_count": 2,
   "metadata": {},
   "outputs": [
    {
     "name": "stdout",
     "output_type": "stream",
     "text": [
      "Executed 1 SQLs\n"
     ]
    },
    {
     "name": "stderr",
     "output_type": "stream",
     "text": [
      "/home/justinl/miniconda3/lib/python3.7/site-packages/sqlalchemy/dialects/postgresql/base.py:3323: SAWarning: Skipped unsupported reflection of expression-based index idx__loc_source_value\n",
      "  \"expression-based index %s\" % idx_name\n"
     ]
    }
   ],
   "source": [
    "## database connection parameters\n",
    "# username = config.PG_USERNAME #we use peer authentication so don't need use vars, but in theory would pass them into config_path\n",
    "# password = config.PG_PASSWORD\n",
    "database_name = config.DB_NAME\n",
    "config_path = 'postgresql://{database_name}'.format(\n",
    "    database_name = database_name\n",
    ")\n",
    "connect_args = {\"host\": '/var/run/postgresql/'} # connect_args to pass to sqlalchemy create_engine function\n",
    "\n",
    "# schemas \n",
    "schema_name = 'eol_all_prediction_times_test' # all created tables will be created using this schema\n",
    "cdm_schema_name = config.OMOP_CDM_SCHEMA # the name of the schema housing your OMOP CDM tables\n",
    "\n",
    "# caching\n",
    "reset_schema = False # if true, rebuild all data from scratch\n",
    "\n",
    "# set up database, reset schemas as needed\n",
    "db = dbutils.Database(config_path, schema_name, connect_args, cdm_schema_name)\n",
    "if reset_schema:\n",
    "    db.execute(\n",
    "        'drop schema if exists {} cascade'.format(schema_name)\n",
    "    )\n",
    "db.execute(\n",
    "    'create schema if not exists {}'.format(schema_name)\n",
    ")"
   ]
  },
  {
   "cell_type": "markdown",
   "metadata": {},
   "source": [
    "### Build a Cohort for the End of Life Prediction Task"
   ]
  },
  {
   "cell_type": "markdown",
   "metadata": {},
   "source": [
    "##### Create a Cohort Object that can be constructed as specified by SQL File & Params\n",
    "\n",
    "We provide two different cohort queries that both include all samples with outcome = 1 (patient expired):\n",
    "- gen_EOL_cohort_all_prediction_times.sql: includes all samples with outcome = 1 and uniform samples with outcome = 0 (one per person)\n",
    "- gen_EOL_cohort_matched_prediction_times.sql: includes all samples with outcome = 1 and matched distributions for samples with outcome = 0 and 1"
   ]
  },
  {
   "cell_type": "code",
   "execution_count": 3,
   "metadata": {},
   "outputs": [],
   "source": [
    "cohort_name = '__eol_cohort'\n",
    "\n",
    "# cohort_script_path = config.SQL_PATH_COHORTS + '/gen_EOL_cohort_all_prediction_times.sql'\n",
    "cohort_script_path = config.SQL_PATH_COHORTS + '/gen_EOL_cohort_matched_prediction_times.sql'\n",
    "\n",
    "# cohort parameters  \n",
    "params = {\n",
    "          'cohort_table_name'     : cohort_name,\n",
    "          'schema_name'           : schema_name,\n",
    "          'gap'                   : '3 months',\n",
    "          'outcome_window'        : '6 months',\n",
    "          'eligibility_period'    : '1 year',       ## Required enrollement duration before prediction time\n",
    "          'outcome1_pred_unif'    : 'true',         ## If 'true', then uniformly sample prediction times for samples wit outcome = 1\n",
    "          'outcome1_pred_delta'   : '6 months',     ## ...otherwise, fixed interval.\n",
    "          'dummy_date'            : '1900-01-01',   ## Can be arbitrary, but must be consistent with feature SQL scripts\n",
    "          'max_prediction_date'   : '2017-01-01',   ## Only use prediction times up to this parameter   \n",
    "          'outcome_ratio'           : '2'             ## For each sample with outcome = 1, match with this number of samples with outcoome = 0\n",
    "         }\n",
    "\n",
    "cohort = CohortGenerator.Cohort(\n",
    "    schema_name=schema_name,\n",
    "    cohort_table_name=cohort_name,\n",
    "    cohort_generation_script=cohort_script_path,\n",
    "    cohort_generation_kwargs=params,\n",
    "    outcome_col_name='y'\n",
    ")"
   ]
  },
  {
   "cell_type": "markdown",
   "metadata": {},
   "source": [
    "##### Build Cohort"
   ]
  },
  {
   "cell_type": "code",
   "execution_count": 4,
   "metadata": {},
   "outputs": [
    {
     "name": "stdout",
     "output_type": "stream",
     "text": [
      "Regenerating Table (replace=True)\n",
      "Regenerated Cohort in 698.2969369888306 seconds\n"
     ]
    }
   ],
   "source": [
    "cohort.build(db, replace=True)"
   ]
  },
  {
   "cell_type": "code",
   "execution_count": 5,
   "metadata": {},
   "outputs": [
    {
     "data": {
      "image/png": "[encoded data removed]",
      "text/plain": [
       "<Figure size 432x288 with 1 Axes>"
      ]
     },
     "metadata": {
      "needs_background": "light"
     },
     "output_type": "display_data"
    }
   ],
   "source": [
    "import matplotlib.dates as mdates\n",
    "plt.hist(pd.to_datetime(cohort._cohort[cohort._cohort.y == 1].end_date))\n",
    "plt.gca().xaxis.set_major_locator(mdates.YearLocator((1)))\n",
    "plt.gca().xaxis.set_major_formatter(mdates.DateFormatter(\"%d %b %Y\"))\n",
    "plt.gcf().autofmt_xdate()\n",
    "plt.title(\"Prediction time for samples with outcome = 1\")\n",
    "plt.show()"
   ]
  },
  {
   "cell_type": "code",
   "execution_count": 6,
   "metadata": {},
   "outputs": [
    {
     "data": {
      "image/png": "[encoded data removed]",
      "text/plain": [
       "<Figure size 432x288 with 1 Axes>"
      ]
     },
     "metadata": {
      "needs_background": "light"
     },
     "output_type": "display_data"
    }
   ],
   "source": [
    "import matplotlib.dates as mdates\n",
    "plt.hist(pd.to_datetime(cohort._cohort[cohort._cohort.y == 0].end_date))\n",
    "plt.gca().xaxis.set_major_locator(mdates.YearLocator((1)))\n",
    "plt.gca().xaxis.set_major_formatter(mdates.DateFormatter(\"%d %b %Y\"))\n",
    "plt.gcf().autofmt_xdate()\n",
    "plt.title(\"Prediction time for samples with outcome = 0\")\n",
    "plt.show()"
   ]
  },
  {
   "cell_type": "markdown",
   "metadata": {},
   "source": [
    "### Get a Time Series of Features for Cohort Members"
   ]
  },
  {
   "cell_type": "code",
   "execution_count": 7,
   "metadata": {},
   "outputs": [],
   "source": [
    "featureSet = FeatureGenerator.FeatureSet(db)\n",
    "featureSet.add_default_features(\n",
    "    ['drugs_relative','conditions_relative','procedures_relative','specialty_relative'],\n",
    "    schema_name,\n",
    "    cohort_name\n",
    ")"
   ]
  },
  {
   "cell_type": "code",
   "execution_count": 8,
   "metadata": {},
   "outputs": [
    {
     "name": "stdout",
     "output_type": "stream",
     "text": [
      "Data loaded to buffer in 3522.06 seconds\n",
      "Got Unique Concepts and Timestamps in 111.92 seconds\n",
      "Created Index Mappings in 0.04 seconds\n",
      "142317\n",
      "Generated Sparse Representation of Data in 323.52 seconds\n",
      "CPU times: user 7min 34s, sys: 1min 30s, total: 9min 5s\n",
      "Wall time: 1h 5min 57s\n"
     ]
    }
   ],
   "source": [
    "%%time\n",
    "# Build the Feature Set by executing SQL queries and reading into sparse matrices\n",
    "cache_data_path = '/tmp/cache_data_eol_all_prediction_times_test'\n",
    "featureSet.build(cohort, from_cached=False, cache_file=cache_data_path)"
   ]
  },
  {
   "cell_type": "code",
   "execution_count": 9,
   "metadata": {},
   "outputs": [],
   "source": [
    "outcomes_filt, feature_matrix_3d_transpose, remap, good_feature_names = \\\n",
    "    FeatureGenerator.postprocess_feature_matrix(cohort, featureSet, training_end_date_col='dummy_date')"
   ]
  },
  {
   "cell_type": "markdown",
   "metadata": {},
   "source": [
    "### Build a Model to Predict End of Life using this data"
   ]
  },
  {
   "cell_type": "markdown",
   "metadata": {},
   "source": [
    "#### Transform Data to get a vector of counts over 1, 6, 12, 24 and infinity (represented by 10000 days) month windows for each Patient"
   ]
  },
  {
   "cell_type": "code",
   "execution_count": 10,
   "metadata": {},
   "outputs": [
    {
     "name": "stdout",
     "output_type": "stream",
     "text": [
      "CPU times: user 11min 48s, sys: 21.5 s, total: 12min 9s\n",
      "Wall time: 12min 9s\n"
     ]
    }
   ],
   "source": [
    "%%time\n",
    "feature_matrix_counts, feature_names = data_utils.window_data(\n",
    "    window_lengths = [30, 180, 365, 730, 10000],\n",
    "    feature_matrix = feature_matrix_3d_transpose,\n",
    "    all_feature_names = good_feature_names,\n",
    "    cohort = cohort,\n",
    "    featureSet = featureSet,\n",
    "    cohort_end_date_col = 'dummy_date'\n",
    ")"
   ]
  },
  {
   "cell_type": "code",
   "execution_count": 11,
   "metadata": {},
   "outputs": [
    {
     "data": {
      "text/plain": [
       "<125351x168285 sparse matrix of type '<class 'numpy.float64'>'\n",
       "\twith 30010475 stored elements in Compressed Sparse Column format>"
      ]
     },
     "execution_count": 11,
     "metadata": {},
     "output_type": "execute_result"
    }
   ],
   "source": [
    "feature_matrix_counts.T"
   ]
  },
  {
   "cell_type": "markdown",
   "metadata": {},
   "source": [
    "#### Set up a standard sklearn modelling pipeline"
   ]
  },
  {
   "cell_type": "code",
   "execution_count": 12,
   "metadata": {},
   "outputs": [],
   "source": [
    "from sklearn.linear_model import LogisticRegression\n",
    "from sklearn.preprocessing import FunctionTransformer\n",
    "from sklearn.pipeline import Pipeline\n",
    "from sklearn.model_selection import train_test_split\n",
    "from sklearn.metrics import roc_auc_score, roc_curve, precision_recall_curve, average_precision_score\n",
    "\n",
    "def sparse_ufunc(f):\n",
    "    def wrapper(*a, **k):\n",
    "        X = a[0]\n",
    "        if not scipy.sparse.isspmatrix(X):\n",
    "            raise ValueError\n",
    "        X2 = X.copy()\n",
    "        X2.data = f(X2.data, *(a[1:]), **k)\n",
    "        return X2\n",
    "    return wrapper\n",
    "\n",
    "@sparse_ufunc\n",
    "def tr_func(X, kwarg=1):\n",
    "    return np.clip(X, 0, kwarg)\n",
    "\n",
    "func = FunctionTransformer(\n",
    "    func=tr_func,\n",
    "    accept_sparse=True,\n",
    "    validate=True,\n",
    "    kw_args={'kwarg': 1}\n",
    ")"
   ]
  },
  {
   "cell_type": "markdown",
   "metadata": {},
   "source": [
    "#### Instantiate, Train and Test Model"
   ]
  },
  {
   "cell_type": "code",
   "execution_count": 13,
   "metadata": {},
   "outputs": [
    {
     "name": "stdout",
     "output_type": "stream",
     "text": [
      "C: 10.0000, validation AUC: 0.806\n",
      "C: 1.0000, validation AUC: 0.837\n",
      "C: 0.1000, validation AUC: 0.856\n",
      "C: 0.0100, validation AUC: 0.837\n",
      "C: 0.0010, validation AUC: 0.791\n",
      "C: 0.0001, validation AUC: 0.500\n",
      "Model Test AUC: 0.859\n"
     ]
    }
   ],
   "source": [
    "indices = range(len(outcomes_filt))\n",
    "X_train, X_test, y_train, y_test, indices_train, indices_test = train_test_split(\n",
    "    feature_matrix_counts.T, outcomes_filt, indices,\n",
    "    test_size=0.33, random_state=1\n",
    ")\n",
    "\n",
    "VAL_SZ = 10000\n",
    "vals = [10, 1, 0.1, 0.01, 0.001, 0.0001]\n",
    "scores = []\n",
    "best_score = -1\n",
    "best_model = None\n",
    "for C in vals:\n",
    "    lr = LogisticRegression(\n",
    "        class_weight='balanced', C=C,\n",
    "        penalty='l1', fit_intercept=True,\n",
    "        solver='liblinear', random_state=0,\n",
    "        verbose=0, max_iter = 200, tol=1e-1\n",
    "    )\n",
    "    \n",
    "    # The classifier will transform each data point using func, which here takes a count vector to a binary vector\n",
    "    # Then, it will use logistic regression to classify the transformed data\n",
    "    clf = Pipeline([\n",
    "        ('func',func),\n",
    "        ('lr', lr)\n",
    "    ])\n",
    "\n",
    "    clf.fit(X_train, y_train)\n",
    "    score = roc_auc_score(y_test[:VAL_SZ], clf.predict_proba(X_test[:VAL_SZ, :])[:, 1])\n",
    "    print(\"C: %.4f, validation AUC: %.3f\" % (C, score))\n",
    "    if score > best_score:\n",
    "        best_score = score\n",
    "        best_model = clf\n",
    "pred = best_model.predict_proba(X_test[VAL_SZ:, :])[:, 1]\n",
    "print('Model Test AUC: {0:.3f}'.format(roc_auc_score(y_test[VAL_SZ:], pred)))"
   ]
  },
  {
   "cell_type": "markdown",
   "metadata": {},
   "source": [
    "#### Evaluate Model : RoC and Precision-Recall Curves"
   ]
  },
  {
   "cell_type": "code",
   "execution_count": 14,
   "metadata": {},
   "outputs": [
    {
     "data": {
      "image/png": "[encoded data removed]",
      "text/plain": [
       "<Figure size 432x288 with 1 Axes>"
      ]
     },
     "metadata": {
      "needs_background": "light"
     },
     "output_type": "display_data"
    }
   ],
   "source": [
    "fpr, tpr, _ = roc_curve(y_test[VAL_SZ:], pred)\n",
    "plt.figure()\n",
    "lw = 2\n",
    "plt.fill_between(fpr, tpr, color='b', alpha = 0.2,\n",
    "         lw=lw, label='ROC curve (area = %0.2f)' % roc_auc_score(y_test[VAL_SZ:], pred))\n",
    "plt.plot([0, 1], [0, 1], color='navy', lw=lw, linestyle='--')\n",
    "plt.xlim([0.0, 1.0])\n",
    "plt.ylim([0.0, 1.05])\n",
    "plt.xlabel('False Positive Rate')\n",
    "plt.ylabel('True Positive Rate')\n",
    "plt.title('Receiver operating characteristic - EoL Model')\n",
    "plt.legend(loc=\"lower right\")\n",
    "plt.show()"
   ]
  },
  {
   "cell_type": "code",
   "execution_count": 15,
   "metadata": {},
   "outputs": [
    {
     "data": {
      "image/png": "[encoded data removed]",
      "text/plain": [
       "<Figure size 432x288 with 1 Axes>"
      ]
     },
     "metadata": {
      "needs_background": "light"
     },
     "output_type": "display_data"
    }
   ],
   "source": [
    "precision, recall, _ = precision_recall_curve(y_test[VAL_SZ:], pred)\n",
    "\n",
    "from sklearn.metrics import average_precision_score\n",
    "average_precision = average_precision_score(y_test[VAL_SZ:], pred)\n",
    "\n",
    "plt.figure()\n",
    "plt.step(recall, precision, color='b', alpha=0.2,\n",
    "         where='post')\n",
    "plt.fill_between(\n",
    "    recall, precision, alpha=0.2, color='b',\n",
    "    label='P-R curve (average precision = %0.2f)' % average_precision\n",
    ")\n",
    "\n",
    "plt.xlabel('Recall')\n",
    "plt.ylabel('Precision')\n",
    "plt.ylim([0.0, 1.0])\n",
    "plt.xlim([0.0, 1.0])\n",
    "plt.legend(loc=\"upper right\")\n",
    "plt.title('Precision-Recall curve - EoL Model')\n",
    "plt.show()"
   ]
  },
  {
   "cell_type": "markdown",
   "metadata": {},
   "source": [
    "#### Evaluate Model : Extract Feature Weights"
   ]
  },
  {
   "cell_type": "code",
   "execution_count": 16,
   "metadata": {},
   "outputs": [
    {
     "name": "stderr",
     "output_type": "stream",
     "text": [
      "/home/justinl/miniconda3/lib/python3.7/site-packages/ipykernel_launcher.py:5: FutureWarning: Passing a negative integer is deprecated in version 1.0 and will not be supported in future version. Instead, use None to not limit the column width.\n",
      "  \"\"\"\n"
     ]
    }
   ],
   "source": [
    "feature_weights = pd.DataFrame({\n",
    "    'feature_name': feature_names,\n",
    "    'feature_weight': list(best_model.get_params()['lr'].coef_[0])\n",
    "}).sort_values(by='feature_weight')\n",
    "pd.set_option('display.max_colwidth', -1)"
   ]
  },
  {
   "cell_type": "code",
   "execution_count": 17,
   "metadata": {},
   "outputs": [
    {
     "data": {
      "text/html": [
       "<div>\n",
       "<style scoped>\n",
       "    .dataframe tbody tr th:only-of-type {\n",
       "        vertical-align: middle;\n",
       "    }\n",
       "\n",
       "    .dataframe tbody tr th {\n",
       "        vertical-align: top;\n",
       "    }\n",
       "\n",
       "    .dataframe thead th {\n",
       "        text-align: right;\n",
       "    }\n",
       "</style>\n",
       "<table border=\"1\" class=\"dataframe\">\n",
       "  <thead>\n",
       "    <tr style=\"text-align: right;\">\n",
       "      <th></th>\n",
       "      <th>feature_name</th>\n",
       "      <th>feature_weight</th>\n",
       "    </tr>\n",
       "  </thead>\n",
       "  <tbody>\n",
       "    <tr>\n",
       "      <th>107119</th>\n",
       "      <td>201519 - condition - Primary malignant neoplasm of liver - 730 days</td>\n",
       "      <td>0.386052</td>\n",
       "    </tr>\n",
       "    <tr>\n",
       "      <th>155265</th>\n",
       "      <td>40164968 - drug - Megestrol Acetate 40 MG Oral Tablet - 10000 days</td>\n",
       "      <td>0.393541</td>\n",
       "    </tr>\n",
       "    <tr>\n",
       "      <th>154254</th>\n",
       "      <td>377821 - condition - Neurological disorder with type 1 diabetes mellitus - 10000 days</td>\n",
       "      <td>0.397160</td>\n",
       "    </tr>\n",
       "    <tr>\n",
       "      <th>92214</th>\n",
       "      <td>4166126 - condition - Localized swelling, mass and lump, trunk - 365 days</td>\n",
       "      <td>0.399113</td>\n",
       "    </tr>\n",
       "    <tr>\n",
       "      <th>107481</th>\n",
       "      <td>2101925 - procedure - Debridement, subcutaneous tissue (includes epidermis and dermis, if performed); first 20 sq cm or less - 730 days</td>\n",
       "      <td>0.405335</td>\n",
       "    </tr>\n",
       "    <tr>\n",
       "      <th>64524</th>\n",
       "      <td>443961 - condition - Anemia of chronic renal failure - 180 days</td>\n",
       "      <td>0.413883</td>\n",
       "    </tr>\n",
       "    <tr>\n",
       "      <th>21715</th>\n",
       "      <td>40222796 - drug - Meclizine Hydrochloride 25 MG Oral Tablet - 30 days</td>\n",
       "      <td>0.426997</td>\n",
       "    </tr>\n",
       "    <tr>\n",
       "      <th>135346</th>\n",
       "      <td>134765 - condition - Cachexia - 10000 days</td>\n",
       "      <td>0.428241</td>\n",
       "    </tr>\n",
       "    <tr>\n",
       "      <th>87952</th>\n",
       "      <td>40164972 - drug - Megestrol Acetate 40 MG/ML Oral Suspension - 365 days</td>\n",
       "      <td>0.467445</td>\n",
       "    </tr>\n",
       "    <tr>\n",
       "      <th>120243</th>\n",
       "      <td>374028 - condition - Age related macular degeneration - 730 days</td>\n",
       "      <td>0.471251</td>\n",
       "    </tr>\n",
       "    <tr>\n",
       "      <th>120658</th>\n",
       "      <td>378419 - condition - Alzheimer's disease - 730 days</td>\n",
       "      <td>0.492864</td>\n",
       "    </tr>\n",
       "    <tr>\n",
       "      <th>105502</th>\n",
       "      <td>196925 - condition - Secondary malignant neoplasm of retroperitoneum and peritoneum - 730 days</td>\n",
       "      <td>0.493529</td>\n",
       "    </tr>\n",
       "    <tr>\n",
       "      <th>106540</th>\n",
       "      <td>200485 - condition - Pressure ulcer of buttock - 730 days</td>\n",
       "      <td>0.508082</td>\n",
       "    </tr>\n",
       "    <tr>\n",
       "      <th>105056</th>\n",
       "      <td>192568 - condition - Secondary malignant neoplasm of intra-abdominal lymph nodes - 730 days</td>\n",
       "      <td>0.515065</td>\n",
       "    </tr>\n",
       "    <tr>\n",
       "      <th>79388</th>\n",
       "      <td>254591 - condition - Secondary malignant neoplasm of lung - 365 days</td>\n",
       "      <td>0.542316</td>\n",
       "    </tr>\n",
       "    <tr>\n",
       "      <th>165922</th>\n",
       "      <td>45763750 - condition - Idiopathic pulmonary fibrosis - 10000 days</td>\n",
       "      <td>0.572517</td>\n",
       "    </tr>\n",
       "    <tr>\n",
       "      <th>105755</th>\n",
       "      <td>199754 - condition - Primary malignant neoplasm of pancreas - 730 days</td>\n",
       "      <td>0.621630</td>\n",
       "    </tr>\n",
       "    <tr>\n",
       "      <th>133737</th>\n",
       "      <td>78097 - condition - Secondary malignant neoplasm of bone - 730 days</td>\n",
       "      <td>0.622184</td>\n",
       "    </tr>\n",
       "    <tr>\n",
       "      <th>163564</th>\n",
       "      <td>43560451 - drug - Albuterol 0.833 MG/ML / Ipratropium Bromide 0.167 MG/ML Inhalation Solution - 10000 days</td>\n",
       "      <td>0.736305</td>\n",
       "    </tr>\n",
       "    <tr>\n",
       "      <th>44670</th>\n",
       "      <td>2211851 - procedure - Treatment devices, design and construction; complex (irregular blocks, special shields, compensators, wedges, molds or casts) - 180 days</td>\n",
       "      <td>0.837521</td>\n",
       "    </tr>\n",
       "  </tbody>\n",
       "</table>\n",
       "</div>"
      ],
      "text/plain": [
       "                                                                                                                                                          feature_name  \\\n",
       "107119  201519 - condition - Primary malignant neoplasm of liver - 730 days                                                                                              \n",
       "155265  40164968 - drug - Megestrol Acetate 40 MG Oral Tablet - 10000 days                                                                                               \n",
       "154254  377821 - condition - Neurological disorder with type 1 diabetes mellitus - 10000 days                                                                            \n",
       "92214   4166126 - condition - Localized swelling, mass and lump, trunk - 365 days                                                                                        \n",
       "107481  2101925 - procedure - Debridement, subcutaneous tissue (includes epidermis and dermis, if performed); first 20 sq cm or less - 730 days                          \n",
       "64524   443961 - condition - Anemia of chronic renal failure - 180 days                                                                                                  \n",
       "21715   40222796 - drug - Meclizine Hydrochloride 25 MG Oral Tablet - 30 days                                                                                            \n",
       "135346  134765 - condition - Cachexia - 10000 days                                                                                                                       \n",
       "87952   40164972 - drug - Megestrol Acetate 40 MG/ML Oral Suspension - 365 days                                                                                          \n",
       "120243  374028 - condition - Age related macular degeneration - 730 days                                                                                                 \n",
       "120658  378419 - condition - Alzheimer's disease - 730 days                                                                                                              \n",
       "105502  196925 - condition - Secondary malignant neoplasm of retroperitoneum and peritoneum - 730 days                                                                   \n",
       "106540  200485 - condition - Pressure ulcer of buttock - 730 days                                                                                                        \n",
       "105056  192568 - condition - Secondary malignant neoplasm of intra-abdominal lymph nodes - 730 days                                                                      \n",
       "79388   254591 - condition - Secondary malignant neoplasm of lung - 365 days                                                                                             \n",
       "165922  45763750 - condition - Idiopathic pulmonary fibrosis - 10000 days                                                                                                \n",
       "105755  199754 - condition - Primary malignant neoplasm of pancreas - 730 days                                                                                           \n",
       "133737  78097 - condition - Secondary malignant neoplasm of bone - 730 days                                                                                              \n",
       "163564  43560451 - drug - Albuterol 0.833 MG/ML / Ipratropium Bromide 0.167 MG/ML Inhalation Solution - 10000 days                                                       \n",
       "44670   2211851 - procedure - Treatment devices, design and construction; complex (irregular blocks, special shields, compensators, wedges, molds or casts) - 180 days   \n",
       "\n",
       "        feature_weight  \n",
       "107119  0.386052        \n",
       "155265  0.393541        \n",
       "154254  0.397160        \n",
       "92214   0.399113        \n",
       "107481  0.405335        \n",
       "64524   0.413883        \n",
       "21715   0.426997        \n",
       "135346  0.428241        \n",
       "87952   0.467445        \n",
       "120243  0.471251        \n",
       "120658  0.492864        \n",
       "105502  0.493529        \n",
       "106540  0.508082        \n",
       "105056  0.515065        \n",
       "79388   0.542316        \n",
       "165922  0.572517        \n",
       "105755  0.621630        \n",
       "133737  0.622184        \n",
       "163564  0.736305        \n",
       "44670   0.837521        "
      ]
     },
     "execution_count": 17,
     "metadata": {},
     "output_type": "execute_result"
    }
   ],
   "source": [
    "feature_weights.tail(20)"
   ]
  },
  {
   "cell_type": "code",
   "execution_count": 18,
   "metadata": {},
   "outputs": [
    {
     "data": {
      "text/html": [
       "<div>\n",
       "<style scoped>\n",
       "    .dataframe tbody tr th:only-of-type {\n",
       "        vertical-align: middle;\n",
       "    }\n",
       "\n",
       "    .dataframe tbody tr th {\n",
       "        vertical-align: top;\n",
       "    }\n",
       "\n",
       "    .dataframe thead th {\n",
       "        text-align: right;\n",
       "    }\n",
       "</style>\n",
       "<table border=\"1\" class=\"dataframe\">\n",
       "  <thead>\n",
       "    <tr style=\"text-align: right;\">\n",
       "      <th></th>\n",
       "      <th>feature_name</th>\n",
       "      <th>feature_weight</th>\n",
       "    </tr>\n",
       "  </thead>\n",
       "  <tbody>\n",
       "    <tr>\n",
       "      <th>95813</th>\n",
       "      <td>434894 - condition - Acute posthemorrhagic anemia - 365 days</td>\n",
       "      <td>-0.531804</td>\n",
       "    </tr>\n",
       "    <tr>\n",
       "      <th>112512</th>\n",
       "      <td>2313972 - procedure - Physician or other qualified health care professional services for outpatient cardiac rehabilitation; with continuous ECG monitoring (per session) - 730 days</td>\n",
       "      <td>-0.525737</td>\n",
       "    </tr>\n",
       "    <tr>\n",
       "      <th>101012</th>\n",
       "      <td>1112892 - drug - Aspirin 325 MG Delayed Release Oral Tablet - 730 days</td>\n",
       "      <td>-0.523455</td>\n",
       "    </tr>\n",
       "    <tr>\n",
       "      <th>156814</th>\n",
       "      <td>40233236 - drug - 12 HR CHLORPHENIRAMINE POLISTIREX 1.6 MG/ML / HYDROCODONE POLISTIREX 2 MG/ML Extended Release Suspension [Tussionex] - 10000 days</td>\n",
       "      <td>-0.499959</td>\n",
       "    </tr>\n",
       "    <tr>\n",
       "      <th>41297</th>\n",
       "      <td>2105103 - procedure - Arthroplasty, knee, condyle and plateau; medial AND lateral compartments with or without patella resurfacing (total knee arthroplasty) - 180 days</td>\n",
       "      <td>-0.498345</td>\n",
       "    </tr>\n",
       "    <tr>\n",
       "      <th>73824</th>\n",
       "      <td>2101925 - procedure - Debridement, subcutaneous tissue (includes epidermis and dermis, if performed); first 20 sq cm or less - 365 days</td>\n",
       "      <td>-0.429131</td>\n",
       "    </tr>\n",
       "    <tr>\n",
       "      <th>129907</th>\n",
       "      <td>43560451 - drug - Albuterol 0.833 MG/ML / Ipratropium Bromide 0.167 MG/ML Inhalation Solution - 730 days</td>\n",
       "      <td>-0.425577</td>\n",
       "    </tr>\n",
       "    <tr>\n",
       "      <th>146608</th>\n",
       "      <td>2514528 - procedure - Periodic comprehensive preventive medicine reevaluation and management of an individual including an age and gender appropriate history, examination, counseling/anticipatory guidance/risk factor reduction interventions, and the ordering of laboratory/diag - 10000 days</td>\n",
       "      <td>-0.395876</td>\n",
       "    </tr>\n",
       "    <tr>\n",
       "      <th>160873</th>\n",
       "      <td>42708405 - drug - ezetimibe 10 MG / Simvastatin 80 MG Oral Tablet [Vytorin] - 10000 days</td>\n",
       "      <td>-0.363241</td>\n",
       "    </tr>\n",
       "    <tr>\n",
       "      <th>127538</th>\n",
       "      <td>42739102 - procedure - Dual energy x-ray absorptiometry (DEXA), bone density study, one or more sites; axial skeleton (eg, hips, pelvis, spine) - 730 days</td>\n",
       "      <td>-0.359102</td>\n",
       "    </tr>\n",
       "    <tr>\n",
       "      <th>107348</th>\n",
       "      <td>2101634 - procedure - Anesthesia for open procedures involving hip joint; total hip arthroplasty - 730 days</td>\n",
       "      <td>-0.325872</td>\n",
       "    </tr>\n",
       "    <tr>\n",
       "      <th>44658</th>\n",
       "      <td>2211839 - procedure - Basic radiation dosimetry calculation, central axis depth dose calculation, TDF, NSD, gap calculation, off axis factor, tissue inhomogeneity factors, calculation of non-ionizing radiation surface and depth dose, as required during course of treatment, onl - 180 days</td>\n",
       "      <td>-0.323937</td>\n",
       "    </tr>\n",
       "    <tr>\n",
       "      <th>107027</th>\n",
       "      <td>2008340 - procedure - Prophylactic administration of vaccine against other diseases - 730 days</td>\n",
       "      <td>-0.321349</td>\n",
       "    </tr>\n",
       "    <tr>\n",
       "      <th>111948</th>\n",
       "      <td>2211814 - procedure - Screening mammography, bilateral (2-view study of each breast) - 730 days</td>\n",
       "      <td>-0.319844</td>\n",
       "    </tr>\n",
       "    <tr>\n",
       "      <th>137219</th>\n",
       "      <td>19047693 - drug - sildenafil 50 MG Oral Tablet [Viagra] - 10000 days</td>\n",
       "      <td>-0.319182</td>\n",
       "    </tr>\n",
       "    <tr>\n",
       "      <th>127213</th>\n",
       "      <td>42708401 - drug - ezetimibe 10 MG / Simvastatin 20 MG Oral Tablet [Vytorin] - 730 days</td>\n",
       "      <td>-0.312445</td>\n",
       "    </tr>\n",
       "    <tr>\n",
       "      <th>87127</th>\n",
       "      <td>38004475 - specialty - Chiropractic - 365 days</td>\n",
       "      <td>-0.309610</td>\n",
       "    </tr>\n",
       "    <tr>\n",
       "      <th>158296</th>\n",
       "      <td>40756944 - procedure - Catheter placement in coronary artery(s) for coronary angiography, including intraprocedural injection(s) for coronary angiography, imaging supervision and interpretation; with right and left heart catheterization including intraprocedural injection(s) fo - 10000 days</td>\n",
       "      <td>-0.306115</td>\n",
       "    </tr>\n",
       "    <tr>\n",
       "      <th>119144</th>\n",
       "      <td>314368 - condition - Mitral stenosis with insufficiency - 730 days</td>\n",
       "      <td>-0.297803</td>\n",
       "    </tr>\n",
       "    <tr>\n",
       "      <th>145946</th>\n",
       "      <td>2313666 - procedure - External ocular photography with interpretation and report for documentation of medical progress (eg, close-up photography, slit lamp photography, goniophotography, stereo-photography) - 10000 days</td>\n",
       "      <td>-0.293224</td>\n",
       "    </tr>\n",
       "  </tbody>\n",
       "</table>\n",
       "</div>"
      ],
      "text/plain": [
       "                                                                                                                                                                                                                                                                                               feature_name  \\\n",
       "95813   434894 - condition - Acute posthemorrhagic anemia - 365 days                                                                                                                                                                                                                                          \n",
       "112512  2313972 - procedure - Physician or other qualified health care professional services for outpatient cardiac rehabilitation; with continuous ECG monitoring (per session) - 730 days                                                                                                                   \n",
       "101012  1112892 - drug - Aspirin 325 MG Delayed Release Oral Tablet - 730 days                                                                                                                                                                                                                                \n",
       "156814  40233236 - drug - 12 HR CHLORPHENIRAMINE POLISTIREX 1.6 MG/ML / HYDROCODONE POLISTIREX 2 MG/ML Extended Release Suspension [Tussionex] - 10000 days                                                                                                                                                   \n",
       "41297   2105103 - procedure - Arthroplasty, knee, condyle and plateau; medial AND lateral compartments with or without patella resurfacing (total knee arthroplasty) - 180 days                                                                                                                               \n",
       "73824   2101925 - procedure - Debridement, subcutaneous tissue (includes epidermis and dermis, if performed); first 20 sq cm or less - 365 days                                                                                                                                                               \n",
       "129907  43560451 - drug - Albuterol 0.833 MG/ML / Ipratropium Bromide 0.167 MG/ML Inhalation Solution - 730 days                                                                                                                                                                                              \n",
       "146608  2514528 - procedure - Periodic comprehensive preventive medicine reevaluation and management of an individual including an age and gender appropriate history, examination, counseling/anticipatory guidance/risk factor reduction interventions, and the ordering of laboratory/diag - 10000 days    \n",
       "160873  42708405 - drug - ezetimibe 10 MG / Simvastatin 80 MG Oral Tablet [Vytorin] - 10000 days                                                                                                                                                                                                              \n",
       "127538  42739102 - procedure - Dual energy x-ray absorptiometry (DEXA), bone density study, one or more sites; axial skeleton (eg, hips, pelvis, spine) - 730 days                                                                                                                                            \n",
       "107348  2101634 - procedure - Anesthesia for open procedures involving hip joint; total hip arthroplasty - 730 days                                                                                                                                                                                           \n",
       "44658   2211839 - procedure - Basic radiation dosimetry calculation, central axis depth dose calculation, TDF, NSD, gap calculation, off axis factor, tissue inhomogeneity factors, calculation of non-ionizing radiation surface and depth dose, as required during course of treatment, onl - 180 days      \n",
       "107027  2008340 - procedure - Prophylactic administration of vaccine against other diseases - 730 days                                                                                                                                                                                                        \n",
       "111948  2211814 - procedure - Screening mammography, bilateral (2-view study of each breast) - 730 days                                                                                                                                                                                                       \n",
       "137219  19047693 - drug - sildenafil 50 MG Oral Tablet [Viagra] - 10000 days                                                                                                                                                                                                                                  \n",
       "127213  42708401 - drug - ezetimibe 10 MG / Simvastatin 20 MG Oral Tablet [Vytorin] - 730 days                                                                                                                                                                                                                \n",
       "87127   38004475 - specialty - Chiropractic - 365 days                                                                                                                                                                                                                                                        \n",
       "158296  40756944 - procedure - Catheter placement in coronary artery(s) for coronary angiography, including intraprocedural injection(s) for coronary angiography, imaging supervision and interpretation; with right and left heart catheterization including intraprocedural injection(s) fo - 10000 days   \n",
       "119144  314368 - condition - Mitral stenosis with insufficiency - 730 days                                                                                                                                                                                                                                    \n",
       "145946  2313666 - procedure - External ocular photography with interpretation and report for documentation of medical progress (eg, close-up photography, slit lamp photography, goniophotography, stereo-photography) - 10000 days                                                                           \n",
       "\n",
       "        feature_weight  \n",
       "95813  -0.531804        \n",
       "112512 -0.525737        \n",
       "101012 -0.523455        \n",
       "156814 -0.499959        \n",
       "41297  -0.498345        \n",
       "73824  -0.429131        \n",
       "129907 -0.425577        \n",
       "146608 -0.395876        \n",
       "160873 -0.363241        \n",
       "127538 -0.359102        \n",
       "107348 -0.325872        \n",
       "44658  -0.323937        \n",
       "107027 -0.321349        \n",
       "111948 -0.319844        \n",
       "137219 -0.319182        \n",
       "127213 -0.312445        \n",
       "87127  -0.309610        \n",
       "158296 -0.306115        \n",
       "119144 -0.297803        \n",
       "145946 -0.293224        "
      ]
     },
     "execution_count": 18,
     "metadata": {},
     "output_type": "execute_result"
    }
   ],
   "source": [
    "feature_weights.head(20)"
   ]
  },
  {
   "cell_type": "code",
   "execution_count": 19,
   "metadata": {},
   "outputs": [
    {
     "name": "stdout",
     "output_type": "stream",
     "text": [
      "Number of nonzero procedure feature weights : 1105\n",
      "Number of nonzero condition feature weights : 1607\n",
      "Number of nonzero drug feature weights : 1067\n",
      "Number of nonzero specialty feature weights : 86\n"
     ]
    }
   ],
   "source": [
    "for category in ['procedure', 'condition', 'drug', 'specialty']:\n",
    "    print('Number of nonzero {} feature weights : {}'.format(\n",
    "        category,\n",
    "        sum(feature_weights.loc[\n",
    "            [i for i,j in enumerate(feature_names) if '- ' + category + ' -' in j]\n",
    "        ]['feature_weight'] != 0)\n",
    "    ))"
   ]
  },
  {
   "cell_type": "code",
   "execution_count": null,
   "metadata": {},
   "outputs": [],
   "source": []
  }
 ],
 "metadata": {
  "kernelspec": {
   "display_name": "Python 3 (ipykernel)",
   "language": "python",
   "name": "python3"
  },
  "language_info": {
   "codemirror_mode": {
    "name": "ipython",
    "version": 3
   },
   "file_extension": ".py",
   "mimetype": "text/x-python",
   "name": "python",
   "nbconvert_exporter": "python",
   "pygments_lexer": "ipython3",
   "version": "3.8.13"
  },
  "toc": {
   "base_numbering": 1,
   "nav_menu": {},
   "number_sections": true,
   "sideBar": true,
   "skip_h1_title": false,
   "title_cell": "Table of Contents",
   "title_sidebar": "Contents",
   "toc_cell": false,
   "toc_position": {},
   "toc_section_display": true,
   "toc_window_display": false
  }
 },
 "nbformat": 4,
 "nbformat_minor": 4
}
