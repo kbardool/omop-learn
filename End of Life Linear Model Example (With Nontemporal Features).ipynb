{
 "cells": [
  {
   "cell_type": "markdown",
   "metadata": {},
   "source": [
    "## Imports"
   ]
  },
  {
   "cell_type": "code",
   "execution_count": 1,
   "metadata": {},
   "outputs": [],
   "source": [
    "import sys\n",
    "import time\n",
    "import importlib\n",
    "import sparse\n",
    "import datetime\n",
    "import pandas as pd\n",
    "import numpy as np\n",
    "import scipy.sparse\n",
    "import matplotlib.pyplot as plt\n",
    "\n",
    "import Utils.dbutils as dbutils\n",
    "import Utils.data_utils as data_utils\n",
    "import Generators.CohortGenerator as CohortGenerator\n",
    "import Generators.FeatureGenerator as FeatureGenerator\n",
    "import config\n",
    "local_imports = (\n",
    "    dbutils,\n",
    "    data_utils,\n",
    "    CohortGenerator,\n",
    "    FeatureGenerator,\n",
    "    config\n",
    ")\n",
    "for i in local_imports:\n",
    "    i = importlib.reload(i)"
   ]
  },
  {
   "cell_type": "markdown",
   "metadata": {},
   "source": [
    "## Cohort, Outcome and Feature Collection\n",
    "\n",
    "### 1. Set up a connection to the OMOP CDM database\n",
    "\n",
    "Parameters for connection to be specified in ./config.py"
   ]
  },
  {
   "cell_type": "code",
   "execution_count": 2,
   "metadata": {},
   "outputs": [
    {
     "name": "stderr",
     "output_type": "stream",
     "text": [
      "/home/justinl/miniconda3/lib/python3.7/site-packages/sqlalchemy/dialects/postgresql/base.py:3517: SAWarning: Skipped unsupported reflection of expression-based index idx__loc_source_value\n",
      "  \"expression-based index %s\" % idx_name\n"
     ]
    },
    {
     "name": "stdout",
     "output_type": "stream",
     "text": [
      "Executed 1 SQLs\n"
     ]
    }
   ],
   "source": [
    "## database connection parameters\n",
    "# username = config.PG_USERNAME #we use peer authentication so don't need use vars, but in theory would pass them into config_path\n",
    "# password = config.PG_PASSWORD\n",
    "database_name = config.DB_NAME\n",
    "config_path = 'postgresql://{database_name}'.format(\n",
    "    database_name = database_name\n",
    ")\n",
    "connect_args = {\"host\": '/var/run/postgresql/'} # connect_args to pass to sqlalchemy create_engine function\n",
    "\n",
    "## schemas \n",
    "schema_name = 'eol_test' # all created tables will be created using this schema\n",
    "cdm_schema_name = config.OMOP_CDM_SCHEMA # the name of the schema housing your OMOP CDM tables\n",
    "\n",
    "## caching\n",
    "reset_schema = False # if true, rebuild all data from scratch\n",
    "\n",
    "## set up database, reset schemas as needed\n",
    "db = dbutils.Database(config_path, schema_name, connect_args, cdm_schema_name)\n",
    "if reset_schema:\n",
    "    db.execute(\n",
    "        'drop schema if exists {} cascade'.format(schema_name)\n",
    "    )\n",
    "db.execute(\n",
    "    'create schema if not exists {}'.format(schema_name)\n",
    ")"
   ]
  },
  {
   "cell_type": "markdown",
   "metadata": {},
   "source": [
    "### Build a Cohort for the End of Life Prediction Task"
   ]
  },
  {
   "cell_type": "markdown",
   "metadata": {},
   "source": [
    "##### Create a Cohort Object that can be constructed as specified by SQL File & Params"
   ]
  },
  {
   "cell_type": "code",
   "execution_count": 3,
   "metadata": {},
   "outputs": [],
   "source": [
    "cohort_name = '__eol_cohort'\n",
    "if config.CDM_VERSION == 'v5.3.1':\n",
    "    cohort_script_path = config.SQL_PATH_COHORTS + '/gen_EOL_cohort_v531.sql'\n",
    "else:\n",
    "    cohort_script_path = config.SQL_PATH_COHORTS + '/gen_EOL_cohort.sql'\n",
    "\n",
    "# cohort parameters  \n",
    "params = {\n",
    "          'cohort_table_name'     : cohort_name,\n",
    "          'schema_name'           : schema_name,\n",
    "          'aux_data_schema'       : config.CDM_AUX_SCHEMA,\n",
    "          'training_start_date'   : '2016-01-01',\n",
    "          'training_end_date'     : '2017-01-01',\n",
    "          'gap'                   : '3 months',\n",
    "          'outcome_window'        : '6 months'\n",
    "         }\n",
    "\n",
    "cohort = CohortGenerator.Cohort(\n",
    "    schema_name=schema_name,\n",
    "    cohort_table_name=cohort_name,\n",
    "    cohort_generation_script=cohort_script_path,\n",
    "    cohort_generation_kwargs=params,\n",
    "    outcome_col_name='y'\n",
    ")"
   ]
  },
  {
   "cell_type": "markdown",
   "metadata": {},
   "source": [
    "##### Build Cohort"
   ]
  },
  {
   "cell_type": "code",
   "execution_count": 4,
   "metadata": {},
   "outputs": [
    {
     "name": "stdout",
     "output_type": "stream",
     "text": [
      "Table already exists, set replace=True to rebuild\n"
     ]
    }
   ],
   "source": [
    "cohort.build(db, replace=False)"
   ]
  },
  {
   "cell_type": "markdown",
   "metadata": {},
   "source": [
    "### Get a Time Series of Features for Cohort Members"
   ]
  },
  {
   "cell_type": "code",
   "execution_count": 5,
   "metadata": {},
   "outputs": [],
   "source": [
    "featureSet = FeatureGenerator.FeatureSet(db)\n",
    "\n",
    "# Add temporal features\n",
    "featureSet.add_default_features(\n",
    "    ['drugs','conditions','procedures','specialty'],\n",
    "    schema_name,\n",
    "    cohort_name\n",
    ")\n",
    "\n",
    "# Add nontemporal features\n",
    "featureSet.add_default_features(\n",
    "    ['age', 'gender'],\n",
    "    schema_name,\n",
    "    cohort_name,\n",
    "    temporal=False\n",
    ")"
   ]
  },
  {
   "cell_type": "code",
   "execution_count": 6,
   "metadata": {},
   "outputs": [
    {
     "name": "stdout",
     "output_type": "stream",
     "text": [
      "Data loaded to buffer in 373.53 seconds\n",
      "Got Unique Concepts and Timestamps in 50.40 seconds\n",
      "Created Index Mappings in 0.03 seconds\n",
      "114043\n",
      "Generated Sparse Representation of Data in 153.52 seconds\n",
      "Nontemporal data loaded to buffer in 2.92 seconds\n",
      "Got Unique Nontemporal Concepts in 0.20 seconds\n",
      "Created Nontemporal Index Mappings in 0.02 seconds\n",
      "Generated Sparse Representation of Nontemporal Data in 0.16 seconds\n",
      "CPU times: user 3min 44s, sys: 25.5 s, total: 4min 10s\n",
      "Wall time: 9min 41s\n"
     ]
    }
   ],
   "source": [
    "%%time\n",
    "# Build the Feature Set by executing SQL queries and reading into sparse matrices\n",
    "cache_data_path = config.DEFAULT_SAVE_LOC + 'cache_data_eol_test'\n",
    "nontemporal_cache_data_path = config.DEFAULT_SAVE_LOC + 'cache_data_eol_test_ntmp'\n",
    "featureSet.build(cohort, from_cached=False, \n",
    "                 cache_file=cache_data_path, \n",
    "                 nontemporal_cache_file=nontemporal_cache_data_path)"
   ]
  },
  {
   "cell_type": "code",
   "execution_count": 8,
   "metadata": {},
   "outputs": [],
   "source": [
    "# If there are only temporal features\n",
    "'''\n",
    "outcomes_filt, feature_matrix_3d_transpose, remap, good_feature_names = \\\n",
    "    FeatureGenerator.postprocess_feature_matrix(cohort, featureSet)\n",
    "'''\n",
    "\n",
    "# If there are nontemporal features\n",
    "outcomes_filt, feature_matrix_3d_transpose, nontemporal_feature_matrix, remap, \\\n",
    "    good_feature_names, nontemporal_feature_names = \\\n",
    "    FeatureGenerator.postprocess_feature_matrix(cohort, featureSet, include_nontemporal=True)"
   ]
  },
  {
   "cell_type": "markdown",
   "metadata": {},
   "source": [
    "### Build a Model to Predict End of Life using this data"
   ]
  },
  {
   "cell_type": "markdown",
   "metadata": {},
   "source": [
    "#### Transform Data to get a vector of counts over 1, 6, 12, 24 and infinity (represented by 10000 days) month windows for each Patient"
   ]
  },
  {
   "cell_type": "code",
   "execution_count": 9,
   "metadata": {},
   "outputs": [
    {
     "name": "stdout",
     "output_type": "stream",
     "text": [
      "CPU times: user 8min 11s, sys: 50.7 s, total: 9min 2s\n",
      "Wall time: 9min 2s\n"
     ]
    }
   ],
   "source": [
    "%%time\n",
    "feature_matrix_counts, feature_names = data_utils.window_data(\n",
    "    window_lengths = [30, 180, 365, 730, 10000],\n",
    "    feature_matrix = feature_matrix_3d_transpose,\n",
    "    all_feature_names = good_feature_names,\n",
    "    cohort = cohort,\n",
    "    featureSet = featureSet\n",
    ")"
   ]
  },
  {
   "cell_type": "markdown",
   "metadata": {},
   "source": [
    "#### Combine temporal and non-temporal features, if needed\n",
    "This implementation binarizes the counts of the temporal features using the tr_func function."
   ]
  },
  {
   "cell_type": "code",
   "execution_count": 56,
   "metadata": {},
   "outputs": [],
   "source": [
    "def sparse_ufunc(f):\n",
    "    def wrapper(*a, **k):\n",
    "        X = a[0]\n",
    "        if not scipy.sparse.isspmatrix(X):\n",
    "            raise ValueError\n",
    "        X2 = X.copy()\n",
    "        X2.data = f(X2.data, *(a[1:]), **k)\n",
    "        return X2\n",
    "    return wrapper\n",
    "\n",
    "@sparse_ufunc\n",
    "def tr_func(X, kwarg=1):\n",
    "    return np.clip(X, 0, kwarg)\n",
    "\n",
    "# If there are no nontemporal features, binarize the temporal features\n",
    "'''\n",
    "full_feature_matrix = tr_func(feature_matrix_counts.T)\n",
    "'''\n",
    "\n",
    "# If there are nontemporal features, binarize the temporal features, then combine them\n",
    "full_feature_matrix = scipy.sparse.hstack((tr_func(feature_matrix_counts.T), nontemporal_feature_matrix))"
   ]
  },
  {
   "cell_type": "markdown",
   "metadata": {},
   "source": [
    "#### Instantiate, Train and Test Model\n",
    "In this implementation, we use a standard sklearn Pipeline consisting of a StandardScaler and a LogisticRegression."
   ]
  },
  {
   "cell_type": "code",
   "execution_count": 40,
   "metadata": {
    "scrolled": true
   },
   "outputs": [
    {
     "name": "stdout",
     "output_type": "stream",
     "text": [
      "C: 1.0000, Val AUC: 0.57\n",
      "C: 0.1000, Val AUC: 0.61\n",
      "C: 0.0100, Val AUC: 0.67\n",
      "C: 0.0010, Val AUC: 0.81\n",
      "C: 0.0001, Val AUC: 0.67\n",
      "Model Test AUC: 0.82\n"
     ]
    }
   ],
   "source": [
    "from sklearn.linear_model import LogisticRegression\n",
    "from sklearn.preprocessing import FunctionTransformer\n",
    "from sklearn.pipeline import Pipeline\n",
    "from sklearn.model_selection import train_test_split\n",
    "from sklearn.metrics import roc_auc_score, roc_curve, precision_recall_curve, average_precision_score\n",
    "from sklearn.preprocessing import StandardScaler\n",
    "\n",
    "# Construct train, validate, and test sets\n",
    "indices = range(len(outcomes_filt))\n",
    "X_train, X_test, y_train, y_test, indices_train, indices_test = train_test_split(\n",
    "    full_feature_matrix,\n",
    "    # feature_matrix_counts.T, \n",
    "    outcomes_filt, indices,\n",
    "    test_size=0.2, random_state=1\n",
    ")\n",
    "X_train, X_val, y_train, y_val, indices_train, indices_val = train_test_split(\n",
    "    X_train,\n",
    "    # feature_matrix_counts.T, \n",
    "    y_train, indices_train,\n",
    "    test_size=0.3, random_state=1\n",
    ")\n",
    "\n",
    "# Train model by hyperparameter search\n",
    "Cs = [1, 1e-1, 1e-2, 1e-3, 1e-4]\n",
    "models = []\n",
    "scores = []\n",
    "for C in Cs:\n",
    "    lr = LogisticRegression(\n",
    "        class_weight='balanced', C=C,\n",
    "        penalty='l1', fit_intercept=True,\n",
    "        solver='liblinear', random_state=0,\n",
    "        verbose=0, max_iter = 200, tol=1e-1\n",
    "    )\n",
    "    scaler = StandardScaler(with_mean=False)  # with_mean=False necessary because feature matrices are sparse\n",
    "    clf = Pipeline([\n",
    "        ('scaler', scaler),\n",
    "        ('lr', lr)\n",
    "    ])\n",
    "    clf.fit(X_train, y_train)\n",
    "    pred = clf.predict_proba(X_val)[:, 1]\n",
    "    score = roc_auc_score(y_val, pred)\n",
    "    scores.append(score)\n",
    "    print(\"C: %.4f, Val AUC: %.2f\" % (C, score))\n",
    "    models.append(clf)\n",
    "    \n",
    "# Evaluate selected model\n",
    "clf = models[np.argmax(scores)]\n",
    "pred = clf.predict_proba(X_test)[:, 1]\n",
    "print('Model Test AUC: {0:.2f}'.format(roc_auc_score(y_test, pred)))"
   ]
  },
  {
   "cell_type": "markdown",
   "metadata": {},
   "source": [
    "#### Evaluate Model : RoC and Precision-Recall Curves"
   ]
  },
  {
   "cell_type": "code",
   "execution_count": 41,
   "metadata": {},
   "outputs": [
    {
     "data": {
      "image/png": "[encoded data removed]",
      "text/plain": [
       "<Figure size 432x288 with 1 Axes>"
      ]
     },
     "metadata": {
      "needs_background": "light"
     },
     "output_type": "display_data"
    }
   ],
   "source": [
    "fpr, tpr, _ = roc_curve(y_test, pred)\n",
    "plt.figure()\n",
    "lw = 2\n",
    "plt.fill_between(fpr, tpr, color='b', alpha = 0.2,\n",
    "         lw=lw, label='ROC curve (area = %0.2f)' % roc_auc_score(y_test, pred))\n",
    "plt.plot([0, 1], [0, 1], color='navy', lw=lw, linestyle='--')\n",
    "plt.xlim([0.0, 1.0])\n",
    "plt.ylim([0.0, 1.05])\n",
    "plt.xlabel('False Positive Rate')\n",
    "plt.ylabel('True Positive Rate')\n",
    "plt.title('Receiver operating characteristic - EoL Model')\n",
    "plt.legend(loc=\"lower right\")\n",
    "plt.show()"
   ]
  },
  {
   "cell_type": "code",
   "execution_count": 42,
   "metadata": {},
   "outputs": [
    {
     "data": {
      "image/png": "[encoded data removed]",
      "text/plain": [
       "<Figure size 432x288 with 1 Axes>"
      ]
     },
     "metadata": {
      "needs_background": "light"
     },
     "output_type": "display_data"
    }
   ],
   "source": [
    "precision, recall, _ = precision_recall_curve(y_test, pred)\n",
    "\n",
    "from sklearn.metrics import average_precision_score\n",
    "average_precision = average_precision_score(y_test, pred)\n",
    "\n",
    "plt.figure()\n",
    "plt.step(recall, precision, color='b', alpha=0.2,\n",
    "         where='post')\n",
    "plt.fill_between(\n",
    "    recall, precision, alpha=0.2, color='b',\n",
    "    label='P-R curve (average precision = %0.2f)' % average_precision\n",
    ")\n",
    "\n",
    "plt.xlabel('Recall')\n",
    "plt.ylabel('Precision')\n",
    "plt.ylim([0.0, 0.5])\n",
    "plt.xlim([0.0, 1.0])\n",
    "plt.legend(loc=\"upper right\")\n",
    "plt.title('Precision-Recall curve - EoL Model')\n",
    "plt.show()"
   ]
  },
  {
   "cell_type": "markdown",
   "metadata": {},
   "source": [
    "#### Evaluate Model : Extract Feature Weights"
   ]
  },
  {
   "cell_type": "code",
   "execution_count": 43,
   "metadata": {},
   "outputs": [
    {
     "name": "stderr",
     "output_type": "stream",
     "text": [
      "/home/justinl/miniconda3/lib/python3.7/site-packages/ipykernel_launcher.py:5: FutureWarning: Passing a negative integer is deprecated in version 1.0 and will not be supported in future version. Instead, use None to not limit the column width.\n",
      "  \"\"\"\n"
     ]
    }
   ],
   "source": [
    "feature_weights = pd.DataFrame({\n",
    "    'feature_name': feature_names + nontemporal_feature_names,\n",
    "    'feature_weight': list(clf.get_params()['lr'].coef_[0])\n",
    "}).sort_values(by='feature_weight')\n",
    "pd.set_option('display.max_colwidth', -1)"
   ]
  },
  {
   "cell_type": "code",
   "execution_count": 44,
   "metadata": {},
   "outputs": [
    {
     "data": {
      "text/html": [
       "<div>\n",
       "<style scoped>\n",
       "    .dataframe tbody tr th:only-of-type {\n",
       "        vertical-align: middle;\n",
       "    }\n",
       "\n",
       "    .dataframe tbody tr th {\n",
       "        vertical-align: top;\n",
       "    }\n",
       "\n",
       "    .dataframe thead th {\n",
       "        text-align: right;\n",
       "    }\n",
       "</style>\n",
       "<table border=\"1\" class=\"dataframe\">\n",
       "  <thead>\n",
       "    <tr style=\"text-align: right;\">\n",
       "      <th></th>\n",
       "      <th>feature_name</th>\n",
       "      <th>feature_weight</th>\n",
       "    </tr>\n",
       "  </thead>\n",
       "  <tbody>\n",
       "    <tr>\n",
       "      <th>111895</th>\n",
       "      <td>436222 - condition - Altered mental status - 730 days</td>\n",
       "      <td>0.038231</td>\n",
       "    </tr>\n",
       "    <tr>\n",
       "      <th>121137</th>\n",
       "      <td>2102077 - procedure - Debridement of nail(s) by any method(s); 6 or more - 10000 days</td>\n",
       "      <td>0.040244</td>\n",
       "    </tr>\n",
       "    <tr>\n",
       "      <th>124577</th>\n",
       "      <td>2211401 - procedure - Computed tomography, cervical spine; without contrast material - 10000 days</td>\n",
       "      <td>0.040795</td>\n",
       "    </tr>\n",
       "    <tr>\n",
       "      <th>103208</th>\n",
       "      <td>38003845 - specialty - Emergency Medicine - 730 days</td>\n",
       "      <td>0.041862</td>\n",
       "    </tr>\n",
       "    <tr>\n",
       "      <th>46764</th>\n",
       "      <td>4022076 - condition - Patient dependence on care provider - 180 days</td>\n",
       "      <td>0.041948</td>\n",
       "    </tr>\n",
       "    <tr>\n",
       "      <th>125656</th>\n",
       "      <td>2514406 - procedure - Initial hospital care, per day, for the evaluation and management of a patient, which requires these 3 key components: A comprehensive history; A comprehensive examination; and Medical decision making of high complexity. Counseling and/or coordination of  - 10000 days</td>\n",
       "      <td>0.042083</td>\n",
       "    </tr>\n",
       "    <tr>\n",
       "      <th>38474</th>\n",
       "      <td>2314229 - procedure - Chemotherapy administration, intravenous infusion technique; up to 1 hour, single or initial substance/drug - 180 days</td>\n",
       "      <td>0.042360</td>\n",
       "    </tr>\n",
       "    <tr>\n",
       "      <th>9755</th>\n",
       "      <td>255573 - condition - Chronic obstructive lung disease - 30 days</td>\n",
       "      <td>0.044343</td>\n",
       "    </tr>\n",
       "    <tr>\n",
       "      <th>118733</th>\n",
       "      <td>19123989 - drug - Albuterol 0.83 MG/ML Inhalation Solution - 10000 days</td>\n",
       "      <td>0.046932</td>\n",
       "    </tr>\n",
       "    <tr>\n",
       "      <th>140907</th>\n",
       "      <td>436222 - condition - Altered mental status - 10000 days</td>\n",
       "      <td>0.049140</td>\n",
       "    </tr>\n",
       "    <tr>\n",
       "      <th>116997</th>\n",
       "      <td>140648 - condition - Onychomycosis due to dermatophyte - 10000 days</td>\n",
       "      <td>0.049455</td>\n",
       "    </tr>\n",
       "    <tr>\n",
       "      <th>43810</th>\n",
       "      <td>321052 - condition - Peripheral vascular disease - 180 days</td>\n",
       "      <td>0.053722</td>\n",
       "    </tr>\n",
       "    <tr>\n",
       "      <th>96791</th>\n",
       "      <td>255573 - condition - Chronic obstructive lung disease - 730 days</td>\n",
       "      <td>0.053990</td>\n",
       "    </tr>\n",
       "    <tr>\n",
       "      <th>137541</th>\n",
       "      <td>4182210 - condition - Dementia - 10000 days</td>\n",
       "      <td>0.054320</td>\n",
       "    </tr>\n",
       "    <tr>\n",
       "      <th>142325</th>\n",
       "      <td>443612 - condition - Chronic kidney disease stage 4 - 10000 days</td>\n",
       "      <td>0.054694</td>\n",
       "    </tr>\n",
       "    <tr>\n",
       "      <th>141615</th>\n",
       "      <td>439777 - condition - Anemia - 10000 days</td>\n",
       "      <td>0.073985</td>\n",
       "    </tr>\n",
       "    <tr>\n",
       "      <th>144541</th>\n",
       "      <td>79908 - condition - Muscle weakness - 10000 days</td>\n",
       "      <td>0.077908</td>\n",
       "    </tr>\n",
       "    <tr>\n",
       "      <th>101796</th>\n",
       "      <td>319835 - condition - Congestive heart failure - 730 days</td>\n",
       "      <td>0.087708</td>\n",
       "    </tr>\n",
       "    <tr>\n",
       "      <th>131594</th>\n",
       "      <td>372629 - condition - Nonexudative age-related macular degeneration - 10000 days</td>\n",
       "      <td>0.088930</td>\n",
       "    </tr>\n",
       "    <tr>\n",
       "      <th>132135</th>\n",
       "      <td>378419 - condition - Alzheimer's disease - 10000 days</td>\n",
       "      <td>0.089202</td>\n",
       "    </tr>\n",
       "  </tbody>\n",
       "</table>\n",
       "</div>"
      ],
      "text/plain": [
       "                                                                                                                                                                                                                                                                                              feature_name  \\\n",
       "111895  436222 - condition - Altered mental status - 730 days                                                                                                                                                                                                                                                \n",
       "121137  2102077 - procedure - Debridement of nail(s) by any method(s); 6 or more - 10000 days                                                                                                                                                                                                                \n",
       "124577  2211401 - procedure - Computed tomography, cervical spine; without contrast material - 10000 days                                                                                                                                                                                                    \n",
       "103208  38003845 - specialty - Emergency Medicine - 730 days                                                                                                                                                                                                                                                 \n",
       "46764   4022076 - condition - Patient dependence on care provider - 180 days                                                                                                                                                                                                                                 \n",
       "125656  2514406 - procedure - Initial hospital care, per day, for the evaluation and management of a patient, which requires these 3 key components: A comprehensive history; A comprehensive examination; and Medical decision making of high complexity. Counseling and/or coordination of  - 10000 days   \n",
       "38474   2314229 - procedure - Chemotherapy administration, intravenous infusion technique; up to 1 hour, single or initial substance/drug - 180 days                                                                                                                                                         \n",
       "9755    255573 - condition - Chronic obstructive lung disease - 30 days                                                                                                                                                                                                                                      \n",
       "118733  19123989 - drug - Albuterol 0.83 MG/ML Inhalation Solution - 10000 days                                                                                                                                                                                                                              \n",
       "140907  436222 - condition - Altered mental status - 10000 days                                                                                                                                                                                                                                              \n",
       "116997  140648 - condition - Onychomycosis due to dermatophyte - 10000 days                                                                                                                                                                                                                                  \n",
       "43810   321052 - condition - Peripheral vascular disease - 180 days                                                                                                                                                                                                                                          \n",
       "96791   255573 - condition - Chronic obstructive lung disease - 730 days                                                                                                                                                                                                                                     \n",
       "137541  4182210 - condition - Dementia - 10000 days                                                                                                                                                                                                                                                          \n",
       "142325  443612 - condition - Chronic kidney disease stage 4 - 10000 days                                                                                                                                                                                                                                     \n",
       "141615  439777 - condition - Anemia - 10000 days                                                                                                                                                                                                                                                             \n",
       "144541  79908 - condition - Muscle weakness - 10000 days                                                                                                                                                                                                                                                     \n",
       "101796  319835 - condition - Congestive heart failure - 730 days                                                                                                                                                                                                                                             \n",
       "131594  372629 - condition - Nonexudative age-related macular degeneration - 10000 days                                                                                                                                                                                                                      \n",
       "132135  378419 - condition - Alzheimer's disease - 10000 days                                                                                                                                                                                                                                                \n",
       "\n",
       "        feature_weight  \n",
       "111895  0.038231        \n",
       "121137  0.040244        \n",
       "124577  0.040795        \n",
       "103208  0.041862        \n",
       "46764   0.041948        \n",
       "125656  0.042083        \n",
       "38474   0.042360        \n",
       "9755    0.044343        \n",
       "118733  0.046932        \n",
       "140907  0.049140        \n",
       "116997  0.049455        \n",
       "43810   0.053722        \n",
       "96791   0.053990        \n",
       "137541  0.054320        \n",
       "142325  0.054694        \n",
       "141615  0.073985        \n",
       "144541  0.077908        \n",
       "101796  0.087708        \n",
       "131594  0.088930        \n",
       "132135  0.089202        "
      ]
     },
     "execution_count": 44,
     "metadata": {},
     "output_type": "execute_result"
    }
   ],
   "source": [
    "feature_weights.tail(20)"
   ]
  },
  {
   "cell_type": "code",
   "execution_count": 45,
   "metadata": {},
   "outputs": [
    {
     "data": {
      "text/html": [
       "<div>\n",
       "<style scoped>\n",
       "    .dataframe tbody tr th:only-of-type {\n",
       "        vertical-align: middle;\n",
       "    }\n",
       "\n",
       "    .dataframe tbody tr th {\n",
       "        vertical-align: top;\n",
       "    }\n",
       "\n",
       "    .dataframe thead th {\n",
       "        text-align: right;\n",
       "    }\n",
       "</style>\n",
       "<table border=\"1\" class=\"dataframe\">\n",
       "  <thead>\n",
       "    <tr style=\"text-align: right;\">\n",
       "      <th></th>\n",
       "      <th>feature_name</th>\n",
       "      <th>feature_weight</th>\n",
       "    </tr>\n",
       "  </thead>\n",
       "  <tbody>\n",
       "    <tr>\n",
       "      <th>138416</th>\n",
       "      <td>42627987 - procedure - Screening mammography, bilateral (2-view study of each breast), including computer-aided detection (CAD) when performed - 10000 days</td>\n",
       "      <td>-0.173902</td>\n",
       "    </tr>\n",
       "    <tr>\n",
       "      <th>120918</th>\n",
       "      <td>2100978 - procedure - Anesthesia for lower intestinal endoscopic procedures, endoscope introduced distal to duodenum - 10000 days</td>\n",
       "      <td>-0.075298</td>\n",
       "    </tr>\n",
       "    <tr>\n",
       "      <th>125555</th>\n",
       "      <td>2314290 - procedure - Manual therapy techniques (eg, mobilization/ manipulation, manual lymphatic drainage, manual traction), 1 or more regions, each 15 minutes - 10000 days</td>\n",
       "      <td>-0.060973</td>\n",
       "    </tr>\n",
       "    <tr>\n",
       "      <th>80392</th>\n",
       "      <td>42627987 - procedure - Screening mammography, bilateral (2-view study of each breast), including computer-aided detection (CAD) when performed - 365 days</td>\n",
       "      <td>-0.053252</td>\n",
       "    </tr>\n",
       "    <tr>\n",
       "      <th>145060</th>\n",
       "      <td>Age at end_date</td>\n",
       "      <td>-0.050525</td>\n",
       "    </tr>\n",
       "    <tr>\n",
       "      <th>109404</th>\n",
       "      <td>42627987 - procedure - Screening mammography, bilateral (2-view study of each breast), including computer-aided detection (CAD) when performed - 730 days</td>\n",
       "      <td>-0.047982</td>\n",
       "    </tr>\n",
       "    <tr>\n",
       "      <th>132229</th>\n",
       "      <td>38004450 - specialty - Anesthesiology - 10000 days</td>\n",
       "      <td>-0.044001</td>\n",
       "    </tr>\n",
       "    <tr>\n",
       "      <th>95844</th>\n",
       "      <td>2211809 - procedure - Computer-aided detection (computer algorithm analysis of digital image data for lesion detection) with further review for interpretation, with or without digitization of film radiographic images; screening mammography (List separately in addition to code  - 730 days</td>\n",
       "      <td>-0.042069</td>\n",
       "    </tr>\n",
       "    <tr>\n",
       "      <th>96537</th>\n",
       "      <td>2314284 - procedure - Therapeutic procedure, 1 or more areas, each 15 minutes; therapeutic exercises to develop strength and endurance, range of motion and flexibility - 730 days</td>\n",
       "      <td>-0.035257</td>\n",
       "    </tr>\n",
       "    <tr>\n",
       "      <th>142175</th>\n",
       "      <td>442588 - condition - Obstructive sleep apnea syndrome - 10000 days</td>\n",
       "      <td>-0.034087</td>\n",
       "    </tr>\n",
       "    <tr>\n",
       "      <th>125229</th>\n",
       "      <td>2313820 - procedure - Cardiovascular stress test using maximal or submaximal treadmill or bicycle exercise, continuous electrocardiographic monitoring, and/or pharmacological stress; supervision only, without interpretation and report - 10000 days</td>\n",
       "      <td>-0.028990</td>\n",
       "    </tr>\n",
       "    <tr>\n",
       "      <th>125330</th>\n",
       "      <td>2313972 - procedure - Physician or other qualified health care professional services for outpatient cardiac rehabilitation; with continuous ECG monitoring (per session) - 10000 days</td>\n",
       "      <td>-0.028022</td>\n",
       "    </tr>\n",
       "    <tr>\n",
       "      <th>116830</th>\n",
       "      <td>138102 - condition - Benign neoplasm of skin - 10000 days</td>\n",
       "      <td>-0.022619</td>\n",
       "    </tr>\n",
       "    <tr>\n",
       "      <th>74214</th>\n",
       "      <td>38004465 - specialty - Orthopedic Surgery - 365 days</td>\n",
       "      <td>-0.020255</td>\n",
       "    </tr>\n",
       "    <tr>\n",
       "      <th>124661</th>\n",
       "      <td>2211491 - procedure - Radiologic examination, foot; complete, minimum of 3 views - 10000 days</td>\n",
       "      <td>-0.017612</td>\n",
       "    </tr>\n",
       "    <tr>\n",
       "      <th>45195</th>\n",
       "      <td>38004452 - specialty - Dermatology - 180 days</td>\n",
       "      <td>-0.017204</td>\n",
       "    </tr>\n",
       "    <tr>\n",
       "      <th>66831</th>\n",
       "      <td>2211808 - procedure - Computer-aided detection (computer algorithm analysis of digital image data for lesion detection) with further review for interpretation, with or without digitization of film radiographic images; diagnostic mammography (List separately in addition to code - 365 days</td>\n",
       "      <td>-0.016688</td>\n",
       "    </tr>\n",
       "    <tr>\n",
       "      <th>96543</th>\n",
       "      <td>2314290 - procedure - Manual therapy techniques (eg, mobilization/ manipulation, manual lymphatic drainage, manual traction), 1 or more regions, each 15 minutes - 730 days</td>\n",
       "      <td>-0.016230</td>\n",
       "    </tr>\n",
       "    <tr>\n",
       "      <th>95843</th>\n",
       "      <td>2211808 - procedure - Computer-aided detection (computer algorithm analysis of digital image data for lesion detection) with further review for interpretation, with or without digitization of film radiographic images; diagnostic mammography (List separately in addition to code - 730 days</td>\n",
       "      <td>-0.015727</td>\n",
       "    </tr>\n",
       "    <tr>\n",
       "      <th>83538</th>\n",
       "      <td>439297 - condition - Nuclear senile cataract - 365 days</td>\n",
       "      <td>-0.014746</td>\n",
       "    </tr>\n",
       "  </tbody>\n",
       "</table>\n",
       "</div>"
      ],
      "text/plain": [
       "                                                                                                                                                                                                                                                                                            feature_name  \\\n",
       "138416  42627987 - procedure - Screening mammography, bilateral (2-view study of each breast), including computer-aided detection (CAD) when performed - 10000 days                                                                                                                                        \n",
       "120918  2100978 - procedure - Anesthesia for lower intestinal endoscopic procedures, endoscope introduced distal to duodenum - 10000 days                                                                                                                                                                  \n",
       "125555  2314290 - procedure - Manual therapy techniques (eg, mobilization/ manipulation, manual lymphatic drainage, manual traction), 1 or more regions, each 15 minutes - 10000 days                                                                                                                      \n",
       "80392   42627987 - procedure - Screening mammography, bilateral (2-view study of each breast), including computer-aided detection (CAD) when performed - 365 days                                                                                                                                          \n",
       "145060  Age at end_date                                                                                                                                                                                                                                                                                    \n",
       "109404  42627987 - procedure - Screening mammography, bilateral (2-view study of each breast), including computer-aided detection (CAD) when performed - 730 days                                                                                                                                          \n",
       "132229  38004450 - specialty - Anesthesiology - 10000 days                                                                                                                                                                                                                                                 \n",
       "95844   2211809 - procedure - Computer-aided detection (computer algorithm analysis of digital image data for lesion detection) with further review for interpretation, with or without digitization of film radiographic images; screening mammography (List separately in addition to code  - 730 days   \n",
       "96537   2314284 - procedure - Therapeutic procedure, 1 or more areas, each 15 minutes; therapeutic exercises to develop strength and endurance, range of motion and flexibility - 730 days                                                                                                                 \n",
       "142175  442588 - condition - Obstructive sleep apnea syndrome - 10000 days                                                                                                                                                                                                                                 \n",
       "125229  2313820 - procedure - Cardiovascular stress test using maximal or submaximal treadmill or bicycle exercise, continuous electrocardiographic monitoring, and/or pharmacological stress; supervision only, without interpretation and report - 10000 days                                            \n",
       "125330  2313972 - procedure - Physician or other qualified health care professional services for outpatient cardiac rehabilitation; with continuous ECG monitoring (per session) - 10000 days                                                                                                              \n",
       "116830  138102 - condition - Benign neoplasm of skin - 10000 days                                                                                                                                                                                                                                          \n",
       "74214   38004465 - specialty - Orthopedic Surgery - 365 days                                                                                                                                                                                                                                               \n",
       "124661  2211491 - procedure - Radiologic examination, foot; complete, minimum of 3 views - 10000 days                                                                                                                                                                                                      \n",
       "45195   38004452 - specialty - Dermatology - 180 days                                                                                                                                                                                                                                                      \n",
       "66831   2211808 - procedure - Computer-aided detection (computer algorithm analysis of digital image data for lesion detection) with further review for interpretation, with or without digitization of film radiographic images; diagnostic mammography (List separately in addition to code - 365 days   \n",
       "96543   2314290 - procedure - Manual therapy techniques (eg, mobilization/ manipulation, manual lymphatic drainage, manual traction), 1 or more regions, each 15 minutes - 730 days                                                                                                                        \n",
       "95843   2211808 - procedure - Computer-aided detection (computer algorithm analysis of digital image data for lesion detection) with further review for interpretation, with or without digitization of film radiographic images; diagnostic mammography (List separately in addition to code - 730 days   \n",
       "83538   439297 - condition - Nuclear senile cataract - 365 days                                                                                                                                                                                                                                            \n",
       "\n",
       "        feature_weight  \n",
       "138416 -0.173902        \n",
       "120918 -0.075298        \n",
       "125555 -0.060973        \n",
       "80392  -0.053252        \n",
       "145060 -0.050525        \n",
       "109404 -0.047982        \n",
       "132229 -0.044001        \n",
       "95844  -0.042069        \n",
       "96537  -0.035257        \n",
       "142175 -0.034087        \n",
       "125229 -0.028990        \n",
       "125330 -0.028022        \n",
       "116830 -0.022619        \n",
       "74214  -0.020255        \n",
       "124661 -0.017612        \n",
       "45195  -0.017204        \n",
       "66831  -0.016688        \n",
       "96543  -0.016230        \n",
       "95843  -0.015727        \n",
       "83538  -0.014746        "
      ]
     },
     "execution_count": 45,
     "metadata": {},
     "output_type": "execute_result"
    }
   ],
   "source": [
    "feature_weights.head(20)"
   ]
  },
  {
   "cell_type": "code",
   "execution_count": 46,
   "metadata": {},
   "outputs": [
    {
     "name": "stdout",
     "output_type": "stream",
     "text": [
      "Number of nonzero procedure feature weights : 363\n",
      "Number of nonzero condition feature weights : 419\n",
      "Number of nonzero drug feature weights : 248\n",
      "Number of nonzero specialty feature weights : 13\n"
     ]
    }
   ],
   "source": [
    "for category in ['procedure', 'condition', 'drug', 'specialty']:\n",
    "    print('Number of nonzero {} feature weights : {}'.format(\n",
    "        category,\n",
    "        sum(feature_weights.loc[\n",
    "            [i for i,j in enumerate(feature_names) if '- ' + category + ' -' in j]\n",
    "        ]['feature_weight'] != 0)\n",
    "    ))"
   ]
  }
 ],
 "metadata": {
  "kernelspec": {
   "display_name": "Python 3 (ipykernel)",
   "language": "python",
   "name": "python3"
  },
  "language_info": {
   "codemirror_mode": {
    "name": "ipython",
    "version": 3
   },
   "file_extension": ".py",
   "mimetype": "text/x-python",
   "name": "python",
   "nbconvert_exporter": "python",
   "pygments_lexer": "ipython3",
   "version": "3.8.13"
  },
  "toc": {
   "base_numbering": 1,
   "nav_menu": {},
   "number_sections": true,
   "sideBar": true,
   "skip_h1_title": false,
   "title_cell": "Table of Contents",
   "title_sidebar": "Contents",
   "toc_cell": false,
   "toc_position": {},
   "toc_section_display": true,
   "toc_window_display": false
  }
 },
 "nbformat": 4,
 "nbformat_minor": 4
}
