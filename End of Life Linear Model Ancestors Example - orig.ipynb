{
 "cells": [
  {
   "cell_type": "markdown",
   "metadata": {},
   "source": [
    "## Imports"
   ]
  },
  {
   "cell_type": "code",
   "execution_count": 1,
   "metadata": {
    "ExecuteTime": {
     "end_time": "2022-09-20T14:31:22.489707Z",
     "start_time": "2022-09-20T14:31:20.947371Z"
    }
   },
   "outputs": [],
   "source": [
    "import sys\n",
    "import time\n",
    "import importlib\n",
    "import sparse\n",
    "import datetime\n",
    "import pandas as pd\n",
    "import numpy as np\n",
    "import scipy.sparse\n",
    "import matplotlib.pyplot as plt\n",
    "import pickle\n",
    "from sklearn.linear_model import LogisticRegression\n",
    "from sklearn.metrics import roc_auc_score, average_precision_score, roc_curve, precision_recall_curve\n",
    "from sklearn.model_selection import train_test_split\n",
    "\n",
    "import Utils.dbutils as dbutils\n",
    "import Utils.data_utils as data_utils\n",
    "# import Utils.PopulateAux as PopulateAux\n",
    "from Utils.ancestor_utils import get_ancestor_matrix\n",
    "import Generators.CohortGenerator as CohortGenerator\n",
    "import Generators.FeatureGenerator as FeatureGenerator\n",
    "import config\n",
    "local_imports = (\n",
    "    dbutils,\n",
    "    data_utils,\n",
    "#     PopulateAux,\n",
    "    CohortGenerator,\n",
    "    FeatureGenerator,\n",
    "    config\n",
    ")\n",
    "for i in local_imports:\n",
    "    i = importlib.reload(i)"
   ]
  },
  {
   "cell_type": "markdown",
   "metadata": {},
   "source": [
    "## Cohort, Outcome and Feature Collection\n",
    "\n",
    "### Set up a connection to the OMOP CDM database\n",
    "\n",
    "Parameters for connection to be specified in ./config.py"
   ]
  },
  {
   "cell_type": "code",
   "execution_count": 2,
   "metadata": {
    "ExecuteTime": {
     "end_time": "2022-09-19T11:58:33.187450Z",
     "start_time": "2022-09-19T11:58:33.179608Z"
    }
   },
   "outputs": [
    {
     "name": "stdout",
     "output_type": "stream",
     "text": [
      "1.4.40\n"
     ]
    }
   ],
   "source": [
    "import sqlalchemy\n",
    "print(sqlalchemy.__version__)"
   ]
  },
  {
   "cell_type": "code",
   "execution_count": 2,
   "metadata": {
    "ExecuteTime": {
     "end_time": "2022-09-20T14:31:54.043911Z",
     "start_time": "2022-09-20T14:31:54.035688Z"
    }
   },
   "outputs": [
    {
     "name": "stdout",
     "output_type": "stream",
     "text": [
      "20.224.120.22/OHDSI\n",
      "postgresql://20.224.120.22/OHDSI\n",
      "{'host': '20.224.120.22', 'port': '5444', 'user': 'athena_admin', 'password': '3Ej14dDacXaBFliu'}\n"
     ]
    }
   ],
   "source": [
    "## database connection parameters\n",
    "# username = config.PG_USERNAME #we use peer authentication so don't need use vars, but in theory would pass them into config_path\n",
    "# password = config.PG_PASSWORD\n",
    "database_name = config.DB_NAME\n",
    "config_path = 'postgresql://{database_name}'.format(\n",
    "    database_name = database_name\n",
    ")\n",
    "# connect_args = {\"host\": '/var/run/postgresql/'} # connect_args to pass to sqlalchemy create_engine function\n",
    "# connect_args to pass to sqlalchemy create_engine function\n",
    "connect_args = {\"host\": '20.224.120.22', \"port\":'5444', \"user\":\"athena_admin\",\"password\":\"3Ej14dDacXaBFliu\"}\n",
    "# schemas \n",
    "schema_name = 'results' # all created tables will be created using this schema\n",
    "print(database_name)\n",
    "print(config_path)\n",
    "print(connect_args)"
   ]
  },
  {
   "cell_type": "code",
   "execution_count": 3,
   "metadata": {
    "ExecuteTime": {
     "end_time": "2022-09-20T14:32:06.366886Z",
     "start_time": "2022-09-20T14:31:58.259234Z"
    },
    "scrolled": false
   },
   "outputs": [
    {
     "name": "stdout",
     "output_type": "stream",
     "text": [
      "omopcdm\n",
      "MetaData created\n",
      "MetaData reflected\n"
     ]
    }
   ],
   "source": [
    "## schemas \n",
    "schema_name = 'results' # all created tables will be created using this schema\n",
    "cdm_schema_name = config.OMOP_CDM_SCHEMA # the name of the schema housing your OMOP CDM tables\n",
    "print(cdm_schema_name)\n",
    "\n",
    "## caching\n",
    "reset_schema = False # if true, rebuild all data from scratch\n",
    "\n",
    "## set up database, reset schemas as needed\n",
    "db = dbutils.Database(config_path, schema_name, connect_args, cdm_schema_name)"
   ]
  },
  {
   "cell_type": "code",
   "execution_count": 4,
   "metadata": {
    "ExecuteTime": {
     "end_time": "2022-09-20T14:32:08.079439Z",
     "start_time": "2022-09-20T14:32:08.052205Z"
    },
    "scrolled": false
   },
   "outputs": [
    {
     "name": "stdout",
     "output_type": "stream",
     "text": [
      "Executed 1 SQLs\n"
     ]
    }
   ],
   "source": [
    "if reset_schema:\n",
    "    db.execute(\n",
    "        'drop schema if exists {} cascade'.format(schema_name)\n",
    "    )\n",
    "db.execute(\n",
    "    'create schema if not exists {}'.format(schema_name)\n",
    ")"
   ]
  },
  {
   "cell_type": "markdown",
   "metadata": {},
   "source": [
    "### Build a Cohort for the End of Life Prediction Task"
   ]
  },
  {
   "cell_type": "markdown",
   "metadata": {},
   "source": [
    "##### Create a Cohort Object that can be constructed as specified by SQL File & Params"
   ]
  },
  {
   "cell_type": "code",
   "execution_count": 5,
   "metadata": {
    "ExecuteTime": {
     "end_time": "2022-09-20T14:32:13.149533Z",
     "start_time": "2022-09-20T14:32:13.141642Z"
    }
   },
   "outputs": [],
   "source": [
    "cohort_name = '__eol_cohort'\n",
    "cohort_script_path = config.SQL_PATH_COHORTS + '/gen_EOL_cohort.sql'\n",
    "\n",
    "# cohort parameters  \n",
    "params = {\n",
    "          'cohort_table_name'     : cohort_name,\n",
    "          'schema_name'           : schema_name,\n",
    "          'aux_data_schema'       : config.CDM_AUX_SCHEMA,\n",
    "          'training_start_date'   : '2016-01-01',\n",
    "          'training_end_date'     : '2017-01-01',\n",
    "          'gap'                   : '3 months',\n",
    "          'outcome_window'        : '6 months'\n",
    "         }\n",
    "\n",
    "cohort = CohortGenerator.Cohort(\n",
    "    schema_name=schema_name,\n",
    "    cohort_table_name=cohort_name,\n",
    "    cohort_generation_script=cohort_script_path,\n",
    "    cohort_generation_kwargs=params,\n",
    "    outcome_col_name='y'\n",
    ")"
   ]
  },
  {
   "cell_type": "markdown",
   "metadata": {},
   "source": [
    "##### Build Cohort"
   ]
  },
  {
   "cell_type": "code",
   "execution_count": 6,
   "metadata": {
    "ExecuteTime": {
     "end_time": "2022-09-20T14:32:18.390903Z",
     "start_time": "2022-09-20T14:32:16.146519Z"
    }
   },
   "outputs": [
    {
     "name": "stdout",
     "output_type": "stream",
     "text": [
      "Table not found in schema results, regenerating\n"
     ]
    },
    {
     "ename": "ProgrammingError",
     "evalue": "(psycopg2.errors.UndefinedColumn) column p.death_datetime does not exist\nLINE 16:             p.death_datetime\n                     ^\nHINT:  Perhaps you meant to reference the column \"p.birth_datetime\".\n\n[SQL: /*\n    Construct the cohort table used in an example End-of-Life prediction Model\n\n    Inclusion criteria:\n    - Enrolled in 95%% of months of training\n    - Enrolled in 95%% of days during outcome window, or expired during outcome window\n    - Patient over the age of 70 at prediction time\n*/\n\ncreate table results.__eol_cohort as\n\nwith\n    death_dates as (\n        select\n            p.person_id,\n            p.death_datetime\n        from\n            omopcdm.person p\n    ),\n    eligible_people as (\n        select p.person_id\n        from omopcdm.person p\n        where extract(\n            year from date '2017-01-01'\n        ) - p.year_of_birth > 70\n    ),\n    death_training_elig_counts as (\n        select\n            o.person_id,\n            o.observation_period_start_date as start,\n            o.observation_period_end_date as finish,\n            greatest(\n                least (\n                    o.observation_period_end_date,\n                    date '2017-01-01'\n                ) - greatest(\n                    o.observation_period_start_date,\n                    date '2016-01-01'\n                ), '0 day'\n            ) as num_days\n        from omopcdm.observation_period o\n        inner join eligible_people p\n        on o.person_id = p.person_id\n    ),\n    death_trainingwindow_elig_perc as (\n        select\n            person_id\n        from\n            death_training_elig_counts\n        group by\n            person_id\n        having\n            sum(num_days) >= ((0.95 * (date '2017-01-01' - date '2016-01-01'))::text || ' days')::interval\n    ),\n    death_testperiod_elig_counts as (\n        select\n            p.person_id,\n            p.observation_period_start_date as start,\n            p.observation_period_end_date as finish,\n            greatest(\n                    least (\n                        p.observation_period_end_date,\n                        date (\n                            date '2017-01-01'\n                            + interval '3 months'\n                            + interval '6 months'\n                        )\n                    ) - greatest(\n                        p.observation_period_start_date,\n                        date '2017-01-01'\n                    ), '0 day'\n            ) as num_days\n        from omopcdm.observation_period p\n        inner join \n            death_trainingwindow_elig_perc tr\n        on \n            tr.person_id = p.person_id\n    ), \n    death_testwindow_elig_perc as (\n        select\n            dtec.person_id\n        from\n            death_testperiod_elig_counts dtec\n        join \n            death_dates d  \n        on \n            dtec.person_id = d.person_id\n        group by \n            dtec.person_id, d.death_datetime  \n        having\n            (d.death_datetime >= date '2017-01-01' + interval '3 months' and\n             d.death_datetime <= date '2017-01-01' + interval '3 months' + interval '6 months') \n        or\n            sum(num_days) >= ((\n                0.95 * extract(\n                    epoch from (\n                        interval '3 months' \n                        + interval '6 months' --epoch returns the number of seconds in gap + outcome_window\n                    )\n                )/(24*60*60)\n            )::text || ' days')::interval --convert seconds to days\n    ) \n    \n    select\n        row_number() over (order by te.person_id) - 1 as example_id,\n        te.person_id,\n        date '2016-01-01' as start_date,\n        date '2017-01-01' as end_date,\n        d.death_datetime as outcome_date,\n        \n        coalesce(\n            (d.death_datetime between\n                date '2017-01-01'\n                 + interval '3 months'\n                and\n                date '2017-01-01'\n                 + interval '3 months'\n                 + interval '6 months'\n            ), false\n        )::int as y\n    from\n        death_testwindow_elig_perc te\n        left join death_dates d on d.person_id = te.person_id\n    where\n        (\n            d.death_datetime is null\n            or d.death_datetime >= (date '2017-01-01' + interval '3 months')\n        )\n    ;\n\n]\n(Background on this error at: https://sqlalche.me/e/14/f405)",
     "output_type": "error",
     "traceback": [
      "\u001b[0;31m---------------------------------------------------------------------------\u001b[0m",
      "\u001b[0;31mUndefinedColumn\u001b[0m                           Traceback (most recent call last)",
      "File \u001b[0;32m~/miniconda3/envs/athena/lib/python3.9/site-packages/sqlalchemy/engine/base.py:1819\u001b[0m, in \u001b[0;36mConnection._execute_context\u001b[0;34m(self, dialect, constructor, statement, parameters, execution_options, *args, **kw)\u001b[0m\n\u001b[1;32m   1818\u001b[0m     \u001b[38;5;28;01mif\u001b[39;00m \u001b[38;5;129;01mnot\u001b[39;00m evt_handled:\n\u001b[0;32m-> 1819\u001b[0m         \u001b[38;5;28;43mself\u001b[39;49m\u001b[38;5;241;43m.\u001b[39;49m\u001b[43mdialect\u001b[49m\u001b[38;5;241;43m.\u001b[39;49m\u001b[43mdo_execute\u001b[49m\u001b[43m(\u001b[49m\n\u001b[1;32m   1820\u001b[0m \u001b[43m            \u001b[49m\u001b[43mcursor\u001b[49m\u001b[43m,\u001b[49m\u001b[43m \u001b[49m\u001b[43mstatement\u001b[49m\u001b[43m,\u001b[49m\u001b[43m \u001b[49m\u001b[43mparameters\u001b[49m\u001b[43m,\u001b[49m\u001b[43m \u001b[49m\u001b[43mcontext\u001b[49m\n\u001b[1;32m   1821\u001b[0m \u001b[43m        \u001b[49m\u001b[43m)\u001b[49m\n\u001b[1;32m   1823\u001b[0m \u001b[38;5;28;01mif\u001b[39;00m \u001b[38;5;28mself\u001b[39m\u001b[38;5;241m.\u001b[39m_has_events \u001b[38;5;129;01mor\u001b[39;00m \u001b[38;5;28mself\u001b[39m\u001b[38;5;241m.\u001b[39mengine\u001b[38;5;241m.\u001b[39m_has_events:\n",
      "File \u001b[0;32m~/miniconda3/envs/athena/lib/python3.9/site-packages/sqlalchemy/engine/default.py:732\u001b[0m, in \u001b[0;36mDefaultDialect.do_execute\u001b[0;34m(self, cursor, statement, parameters, context)\u001b[0m\n\u001b[1;32m    731\u001b[0m \u001b[38;5;28;01mdef\u001b[39;00m \u001b[38;5;21mdo_execute\u001b[39m(\u001b[38;5;28mself\u001b[39m, cursor, statement, parameters, context\u001b[38;5;241m=\u001b[39m\u001b[38;5;28;01mNone\u001b[39;00m):\n\u001b[0;32m--> 732\u001b[0m     \u001b[43mcursor\u001b[49m\u001b[38;5;241;43m.\u001b[39;49m\u001b[43mexecute\u001b[49m\u001b[43m(\u001b[49m\u001b[43mstatement\u001b[49m\u001b[43m,\u001b[49m\u001b[43m \u001b[49m\u001b[43mparameters\u001b[49m\u001b[43m)\u001b[49m\n",
      "\u001b[0;31mUndefinedColumn\u001b[0m: column p.death_datetime does not exist\nLINE 16:             p.death_datetime\n                     ^\nHINT:  Perhaps you meant to reference the column \"p.birth_datetime\".\n",
      "\nThe above exception was the direct cause of the following exception:\n",
      "\u001b[0;31mProgrammingError\u001b[0m                          Traceback (most recent call last)",
      "Input \u001b[0;32mIn [6]\u001b[0m, in \u001b[0;36m<cell line: 1>\u001b[0;34m()\u001b[0m\n\u001b[0;32m----> 1\u001b[0m \u001b[43mcohort\u001b[49m\u001b[38;5;241;43m.\u001b[39;49m\u001b[43mbuild\u001b[49m\u001b[43m(\u001b[49m\u001b[43mdb\u001b[49m\u001b[43m,\u001b[49m\u001b[43m \u001b[49m\u001b[43mreplace\u001b[49m\u001b[38;5;241;43m=\u001b[39;49m\u001b[38;5;28;43;01mFalse\u001b[39;49;00m\u001b[43m)\u001b[49m\n",
      "File \u001b[0;32m~/WSL-projs/omop-learn/Generators/CohortGenerator.py:72\u001b[0m, in \u001b[0;36mCohort.build\u001b[0;34m(self, db, replace)\u001b[0m\n\u001b[1;32m     69\u001b[0m         \u001b[38;5;28;01melse\u001b[39;00m:\n\u001b[1;32m     70\u001b[0m             \u001b[38;5;28mself\u001b[39m\u001b[38;5;241m.\u001b[39mcohort_generation_sql \u001b[38;5;241m=\u001b[39m cohort_generation_sql_raw\n\u001b[0;32m---> 72\u001b[0m         \u001b[43mdb\u001b[49m\u001b[38;5;241;43m.\u001b[39;49m\u001b[43mbuild_table\u001b[49m\u001b[43m(\u001b[49m\u001b[38;5;124;43m'\u001b[39;49m\u001b[38;5;132;43;01m{}\u001b[39;49;00m\u001b[38;5;124;43m.\u001b[39;49m\u001b[38;5;132;43;01m{}\u001b[39;49;00m\u001b[38;5;124;43m'\u001b[39;49m\u001b[38;5;241;43m.\u001b[39;49m\u001b[43mformat\u001b[49m\u001b[43m(\u001b[49m\n\u001b[1;32m     73\u001b[0m \u001b[43m            \u001b[49m\u001b[38;5;28;43mself\u001b[39;49m\u001b[38;5;241;43m.\u001b[39;49m\u001b[43m_schema_name\u001b[49m\u001b[43m,\u001b[49m\n\u001b[1;32m     74\u001b[0m \u001b[43m            \u001b[49m\u001b[38;5;28;43mself\u001b[39;49m\u001b[38;5;241;43m.\u001b[39;49m\u001b[43m_cohort_table_name\u001b[49m\n\u001b[1;32m     75\u001b[0m \u001b[43m        \u001b[49m\u001b[43m)\u001b[49m\u001b[43m,\u001b[49m\u001b[43m \u001b[49m\u001b[38;5;28;43mself\u001b[39;49m\u001b[38;5;241;43m.\u001b[39;49m\u001b[43mcohort_generation_sql\u001b[49m\u001b[43m)\u001b[49m\n\u001b[1;32m     77\u001b[0m         \u001b[38;5;28mprint\u001b[39m(\u001b[38;5;124m'\u001b[39m\u001b[38;5;124mRegenerated Cohort in \u001b[39m\u001b[38;5;132;01m{}\u001b[39;00m\u001b[38;5;124m seconds\u001b[39m\u001b[38;5;124m'\u001b[39m\u001b[38;5;241m.\u001b[39mformat(\n\u001b[1;32m     78\u001b[0m             time\u001b[38;5;241m.\u001b[39mtime() \u001b[38;5;241m-\u001b[39m t\n\u001b[1;32m     79\u001b[0m         ))\n\u001b[1;32m     80\u001b[0m \u001b[38;5;28;01melse\u001b[39;00m:\n",
      "File \u001b[0;32m~/WSL-projs/omop-learn/Utils/dbutils.py:75\u001b[0m, in \u001b[0;36mDatabase.build_table\u001b[0;34m(self, table_name, sql)\u001b[0m\n\u001b[1;32m     72\u001b[0m drop_sql \u001b[38;5;241m=\u001b[39m \u001b[38;5;124m\"\u001b[39m\u001b[38;5;124mdrop table if exists \u001b[39m\u001b[38;5;132;01m{}\u001b[39;00m\u001b[38;5;124m\"\u001b[39m\u001b[38;5;241m.\u001b[39mformat(table_name)\n\u001b[1;32m     73\u001b[0m session\u001b[38;5;241m.\u001b[39mexecute(sqlalchemy\u001b[38;5;241m.\u001b[39mtext(drop_sql))\n\u001b[0;32m---> 75\u001b[0m \u001b[43msession\u001b[49m\u001b[38;5;241;43m.\u001b[39;49m\u001b[43mexecute\u001b[49m\u001b[43m(\u001b[49m\u001b[43msqlalchemy\u001b[49m\u001b[38;5;241;43m.\u001b[39;49m\u001b[43mtext\u001b[49m\u001b[43m(\u001b[49m\u001b[43msql\u001b[49m\u001b[43m)\u001b[49m\u001b[43m)\u001b[49m\n\u001b[1;32m     76\u001b[0m session\u001b[38;5;241m.\u001b[39mcommit()\n",
      "File \u001b[0;32m~/miniconda3/envs/athena/lib/python3.9/site-packages/sqlalchemy/orm/session.py:1712\u001b[0m, in \u001b[0;36mSession.execute\u001b[0;34m(self, statement, params, execution_options, bind_arguments, _parent_execute_state, _add_event, **kw)\u001b[0m\n\u001b[1;32m   1710\u001b[0m \u001b[38;5;28;01melse\u001b[39;00m:\n\u001b[1;32m   1711\u001b[0m     conn \u001b[38;5;241m=\u001b[39m \u001b[38;5;28mself\u001b[39m\u001b[38;5;241m.\u001b[39m_connection_for_bind(bind)\n\u001b[0;32m-> 1712\u001b[0m result \u001b[38;5;241m=\u001b[39m \u001b[43mconn\u001b[49m\u001b[38;5;241;43m.\u001b[39;49m\u001b[43m_execute_20\u001b[49m\u001b[43m(\u001b[49m\u001b[43mstatement\u001b[49m\u001b[43m,\u001b[49m\u001b[43m \u001b[49m\u001b[43mparams\u001b[49m\u001b[43m \u001b[49m\u001b[38;5;129;43;01mor\u001b[39;49;00m\u001b[43m \u001b[49m\u001b[43m{\u001b[49m\u001b[43m}\u001b[49m\u001b[43m,\u001b[49m\u001b[43m \u001b[49m\u001b[43mexecution_options\u001b[49m\u001b[43m)\u001b[49m\n\u001b[1;32m   1714\u001b[0m \u001b[38;5;28;01mif\u001b[39;00m compile_state_cls:\n\u001b[1;32m   1715\u001b[0m     result \u001b[38;5;241m=\u001b[39m compile_state_cls\u001b[38;5;241m.\u001b[39morm_setup_cursor_result(\n\u001b[1;32m   1716\u001b[0m         \u001b[38;5;28mself\u001b[39m,\n\u001b[1;32m   1717\u001b[0m         statement,\n\u001b[0;32m   (...)\u001b[0m\n\u001b[1;32m   1721\u001b[0m         result,\n\u001b[1;32m   1722\u001b[0m     )\n",
      "File \u001b[0;32m~/miniconda3/envs/athena/lib/python3.9/site-packages/sqlalchemy/engine/base.py:1631\u001b[0m, in \u001b[0;36mConnection._execute_20\u001b[0;34m(self, statement, parameters, execution_options)\u001b[0m\n\u001b[1;32m   1627\u001b[0m     util\u001b[38;5;241m.\u001b[39mraise_(\n\u001b[1;32m   1628\u001b[0m         exc\u001b[38;5;241m.\u001b[39mObjectNotExecutableError(statement), replace_context\u001b[38;5;241m=\u001b[39merr\n\u001b[1;32m   1629\u001b[0m     )\n\u001b[1;32m   1630\u001b[0m \u001b[38;5;28;01melse\u001b[39;00m:\n\u001b[0;32m-> 1631\u001b[0m     \u001b[38;5;28;01mreturn\u001b[39;00m \u001b[43mmeth\u001b[49m\u001b[43m(\u001b[49m\u001b[38;5;28;43mself\u001b[39;49m\u001b[43m,\u001b[49m\u001b[43m \u001b[49m\u001b[43margs_10style\u001b[49m\u001b[43m,\u001b[49m\u001b[43m \u001b[49m\u001b[43mkwargs_10style\u001b[49m\u001b[43m,\u001b[49m\u001b[43m \u001b[49m\u001b[43mexecution_options\u001b[49m\u001b[43m)\u001b[49m\n",
      "File \u001b[0;32m~/miniconda3/envs/athena/lib/python3.9/site-packages/sqlalchemy/sql/elements.py:332\u001b[0m, in \u001b[0;36mClauseElement._execute_on_connection\u001b[0;34m(self, connection, multiparams, params, execution_options, _force)\u001b[0m\n\u001b[1;32m    328\u001b[0m \u001b[38;5;28;01mdef\u001b[39;00m \u001b[38;5;21m_execute_on_connection\u001b[39m(\n\u001b[1;32m    329\u001b[0m     \u001b[38;5;28mself\u001b[39m, connection, multiparams, params, execution_options, _force\u001b[38;5;241m=\u001b[39m\u001b[38;5;28;01mFalse\u001b[39;00m\n\u001b[1;32m    330\u001b[0m ):\n\u001b[1;32m    331\u001b[0m     \u001b[38;5;28;01mif\u001b[39;00m _force \u001b[38;5;129;01mor\u001b[39;00m \u001b[38;5;28mself\u001b[39m\u001b[38;5;241m.\u001b[39msupports_execution:\n\u001b[0;32m--> 332\u001b[0m         \u001b[38;5;28;01mreturn\u001b[39;00m \u001b[43mconnection\u001b[49m\u001b[38;5;241;43m.\u001b[39;49m\u001b[43m_execute_clauseelement\u001b[49m\u001b[43m(\u001b[49m\n\u001b[1;32m    333\u001b[0m \u001b[43m            \u001b[49m\u001b[38;5;28;43mself\u001b[39;49m\u001b[43m,\u001b[49m\u001b[43m \u001b[49m\u001b[43mmultiparams\u001b[49m\u001b[43m,\u001b[49m\u001b[43m \u001b[49m\u001b[43mparams\u001b[49m\u001b[43m,\u001b[49m\u001b[43m \u001b[49m\u001b[43mexecution_options\u001b[49m\n\u001b[1;32m    334\u001b[0m \u001b[43m        \u001b[49m\u001b[43m)\u001b[49m\n\u001b[1;32m    335\u001b[0m     \u001b[38;5;28;01melse\u001b[39;00m:\n\u001b[1;32m    336\u001b[0m         \u001b[38;5;28;01mraise\u001b[39;00m exc\u001b[38;5;241m.\u001b[39mObjectNotExecutableError(\u001b[38;5;28mself\u001b[39m)\n",
      "File \u001b[0;32m~/miniconda3/envs/athena/lib/python3.9/site-packages/sqlalchemy/engine/base.py:1498\u001b[0m, in \u001b[0;36mConnection._execute_clauseelement\u001b[0;34m(self, elem, multiparams, params, execution_options)\u001b[0m\n\u001b[1;32m   1486\u001b[0m compiled_cache \u001b[38;5;241m=\u001b[39m execution_options\u001b[38;5;241m.\u001b[39mget(\n\u001b[1;32m   1487\u001b[0m     \u001b[38;5;124m\"\u001b[39m\u001b[38;5;124mcompiled_cache\u001b[39m\u001b[38;5;124m\"\u001b[39m, \u001b[38;5;28mself\u001b[39m\u001b[38;5;241m.\u001b[39mengine\u001b[38;5;241m.\u001b[39m_compiled_cache\n\u001b[1;32m   1488\u001b[0m )\n\u001b[1;32m   1490\u001b[0m compiled_sql, extracted_params, cache_hit \u001b[38;5;241m=\u001b[39m elem\u001b[38;5;241m.\u001b[39m_compile_w_cache(\n\u001b[1;32m   1491\u001b[0m     dialect\u001b[38;5;241m=\u001b[39mdialect,\n\u001b[1;32m   1492\u001b[0m     compiled_cache\u001b[38;5;241m=\u001b[39mcompiled_cache,\n\u001b[0;32m   (...)\u001b[0m\n\u001b[1;32m   1496\u001b[0m     linting\u001b[38;5;241m=\u001b[39m\u001b[38;5;28mself\u001b[39m\u001b[38;5;241m.\u001b[39mdialect\u001b[38;5;241m.\u001b[39mcompiler_linting \u001b[38;5;241m|\u001b[39m compiler\u001b[38;5;241m.\u001b[39mWARN_LINTING,\n\u001b[1;32m   1497\u001b[0m )\n\u001b[0;32m-> 1498\u001b[0m ret \u001b[38;5;241m=\u001b[39m \u001b[38;5;28;43mself\u001b[39;49m\u001b[38;5;241;43m.\u001b[39;49m\u001b[43m_execute_context\u001b[49m\u001b[43m(\u001b[49m\n\u001b[1;32m   1499\u001b[0m \u001b[43m    \u001b[49m\u001b[43mdialect\u001b[49m\u001b[43m,\u001b[49m\n\u001b[1;32m   1500\u001b[0m \u001b[43m    \u001b[49m\u001b[43mdialect\u001b[49m\u001b[38;5;241;43m.\u001b[39;49m\u001b[43mexecution_ctx_cls\u001b[49m\u001b[38;5;241;43m.\u001b[39;49m\u001b[43m_init_compiled\u001b[49m\u001b[43m,\u001b[49m\n\u001b[1;32m   1501\u001b[0m \u001b[43m    \u001b[49m\u001b[43mcompiled_sql\u001b[49m\u001b[43m,\u001b[49m\n\u001b[1;32m   1502\u001b[0m \u001b[43m    \u001b[49m\u001b[43mdistilled_params\u001b[49m\u001b[43m,\u001b[49m\n\u001b[1;32m   1503\u001b[0m \u001b[43m    \u001b[49m\u001b[43mexecution_options\u001b[49m\u001b[43m,\u001b[49m\n\u001b[1;32m   1504\u001b[0m \u001b[43m    \u001b[49m\u001b[43mcompiled_sql\u001b[49m\u001b[43m,\u001b[49m\n\u001b[1;32m   1505\u001b[0m \u001b[43m    \u001b[49m\u001b[43mdistilled_params\u001b[49m\u001b[43m,\u001b[49m\n\u001b[1;32m   1506\u001b[0m \u001b[43m    \u001b[49m\u001b[43melem\u001b[49m\u001b[43m,\u001b[49m\n\u001b[1;32m   1507\u001b[0m \u001b[43m    \u001b[49m\u001b[43mextracted_params\u001b[49m\u001b[43m,\u001b[49m\n\u001b[1;32m   1508\u001b[0m \u001b[43m    \u001b[49m\u001b[43mcache_hit\u001b[49m\u001b[38;5;241;43m=\u001b[39;49m\u001b[43mcache_hit\u001b[49m\u001b[43m,\u001b[49m\n\u001b[1;32m   1509\u001b[0m \u001b[43m\u001b[49m\u001b[43m)\u001b[49m\n\u001b[1;32m   1510\u001b[0m \u001b[38;5;28;01mif\u001b[39;00m has_events:\n\u001b[1;32m   1511\u001b[0m     \u001b[38;5;28mself\u001b[39m\u001b[38;5;241m.\u001b[39mdispatch\u001b[38;5;241m.\u001b[39mafter_execute(\n\u001b[1;32m   1512\u001b[0m         \u001b[38;5;28mself\u001b[39m,\n\u001b[1;32m   1513\u001b[0m         elem,\n\u001b[0;32m   (...)\u001b[0m\n\u001b[1;32m   1517\u001b[0m         ret,\n\u001b[1;32m   1518\u001b[0m     )\n",
      "File \u001b[0;32m~/miniconda3/envs/athena/lib/python3.9/site-packages/sqlalchemy/engine/base.py:1862\u001b[0m, in \u001b[0;36mConnection._execute_context\u001b[0;34m(self, dialect, constructor, statement, parameters, execution_options, *args, **kw)\u001b[0m\n\u001b[1;32m   1859\u001b[0m             branched\u001b[38;5;241m.\u001b[39mclose()\n\u001b[1;32m   1861\u001b[0m \u001b[38;5;28;01mexcept\u001b[39;00m \u001b[38;5;167;01mBaseException\u001b[39;00m \u001b[38;5;28;01mas\u001b[39;00m e:\n\u001b[0;32m-> 1862\u001b[0m     \u001b[38;5;28;43mself\u001b[39;49m\u001b[38;5;241;43m.\u001b[39;49m\u001b[43m_handle_dbapi_exception\u001b[49m\u001b[43m(\u001b[49m\n\u001b[1;32m   1863\u001b[0m \u001b[43m        \u001b[49m\u001b[43me\u001b[49m\u001b[43m,\u001b[49m\u001b[43m \u001b[49m\u001b[43mstatement\u001b[49m\u001b[43m,\u001b[49m\u001b[43m \u001b[49m\u001b[43mparameters\u001b[49m\u001b[43m,\u001b[49m\u001b[43m \u001b[49m\u001b[43mcursor\u001b[49m\u001b[43m,\u001b[49m\u001b[43m \u001b[49m\u001b[43mcontext\u001b[49m\n\u001b[1;32m   1864\u001b[0m \u001b[43m    \u001b[49m\u001b[43m)\u001b[49m\n\u001b[1;32m   1866\u001b[0m \u001b[38;5;28;01mreturn\u001b[39;00m result\n",
      "File \u001b[0;32m~/miniconda3/envs/athena/lib/python3.9/site-packages/sqlalchemy/engine/base.py:2043\u001b[0m, in \u001b[0;36mConnection._handle_dbapi_exception\u001b[0;34m(self, e, statement, parameters, cursor, context)\u001b[0m\n\u001b[1;32m   2041\u001b[0m     util\u001b[38;5;241m.\u001b[39mraise_(newraise, with_traceback\u001b[38;5;241m=\u001b[39mexc_info[\u001b[38;5;241m2\u001b[39m], from_\u001b[38;5;241m=\u001b[39me)\n\u001b[1;32m   2042\u001b[0m \u001b[38;5;28;01melif\u001b[39;00m should_wrap:\n\u001b[0;32m-> 2043\u001b[0m     \u001b[43mutil\u001b[49m\u001b[38;5;241;43m.\u001b[39;49m\u001b[43mraise_\u001b[49m\u001b[43m(\u001b[49m\n\u001b[1;32m   2044\u001b[0m \u001b[43m        \u001b[49m\u001b[43msqlalchemy_exception\u001b[49m\u001b[43m,\u001b[49m\u001b[43m \u001b[49m\u001b[43mwith_traceback\u001b[49m\u001b[38;5;241;43m=\u001b[39;49m\u001b[43mexc_info\u001b[49m\u001b[43m[\u001b[49m\u001b[38;5;241;43m2\u001b[39;49m\u001b[43m]\u001b[49m\u001b[43m,\u001b[49m\u001b[43m \u001b[49m\u001b[43mfrom_\u001b[49m\u001b[38;5;241;43m=\u001b[39;49m\u001b[43me\u001b[49m\n\u001b[1;32m   2045\u001b[0m \u001b[43m    \u001b[49m\u001b[43m)\u001b[49m\n\u001b[1;32m   2046\u001b[0m \u001b[38;5;28;01melse\u001b[39;00m:\n\u001b[1;32m   2047\u001b[0m     util\u001b[38;5;241m.\u001b[39mraise_(exc_info[\u001b[38;5;241m1\u001b[39m], with_traceback\u001b[38;5;241m=\u001b[39mexc_info[\u001b[38;5;241m2\u001b[39m])\n",
      "File \u001b[0;32m~/miniconda3/envs/athena/lib/python3.9/site-packages/sqlalchemy/util/compat.py:208\u001b[0m, in \u001b[0;36mraise_\u001b[0;34m(***failed resolving arguments***)\u001b[0m\n\u001b[1;32m    205\u001b[0m     exception\u001b[38;5;241m.\u001b[39m__cause__ \u001b[38;5;241m=\u001b[39m replace_context\n\u001b[1;32m    207\u001b[0m \u001b[38;5;28;01mtry\u001b[39;00m:\n\u001b[0;32m--> 208\u001b[0m     \u001b[38;5;28;01mraise\u001b[39;00m exception\n\u001b[1;32m    209\u001b[0m \u001b[38;5;28;01mfinally\u001b[39;00m:\n\u001b[1;32m    210\u001b[0m     \u001b[38;5;66;03m# credit to\u001b[39;00m\n\u001b[1;32m    211\u001b[0m     \u001b[38;5;66;03m# https://cosmicpercolator.com/2016/01/13/exception-leaks-in-python-2-and-3/\u001b[39;00m\n\u001b[1;32m    212\u001b[0m     \u001b[38;5;66;03m# as the __traceback__ object creates a cycle\u001b[39;00m\n\u001b[1;32m    213\u001b[0m     \u001b[38;5;28;01mdel\u001b[39;00m exception, replace_context, from_, with_traceback\n",
      "File \u001b[0;32m~/miniconda3/envs/athena/lib/python3.9/site-packages/sqlalchemy/engine/base.py:1819\u001b[0m, in \u001b[0;36mConnection._execute_context\u001b[0;34m(self, dialect, constructor, statement, parameters, execution_options, *args, **kw)\u001b[0m\n\u001b[1;32m   1817\u001b[0m                 \u001b[38;5;28;01mbreak\u001b[39;00m\n\u001b[1;32m   1818\u001b[0m     \u001b[38;5;28;01mif\u001b[39;00m \u001b[38;5;129;01mnot\u001b[39;00m evt_handled:\n\u001b[0;32m-> 1819\u001b[0m         \u001b[38;5;28;43mself\u001b[39;49m\u001b[38;5;241;43m.\u001b[39;49m\u001b[43mdialect\u001b[49m\u001b[38;5;241;43m.\u001b[39;49m\u001b[43mdo_execute\u001b[49m\u001b[43m(\u001b[49m\n\u001b[1;32m   1820\u001b[0m \u001b[43m            \u001b[49m\u001b[43mcursor\u001b[49m\u001b[43m,\u001b[49m\u001b[43m \u001b[49m\u001b[43mstatement\u001b[49m\u001b[43m,\u001b[49m\u001b[43m \u001b[49m\u001b[43mparameters\u001b[49m\u001b[43m,\u001b[49m\u001b[43m \u001b[49m\u001b[43mcontext\u001b[49m\n\u001b[1;32m   1821\u001b[0m \u001b[43m        \u001b[49m\u001b[43m)\u001b[49m\n\u001b[1;32m   1823\u001b[0m \u001b[38;5;28;01mif\u001b[39;00m \u001b[38;5;28mself\u001b[39m\u001b[38;5;241m.\u001b[39m_has_events \u001b[38;5;129;01mor\u001b[39;00m \u001b[38;5;28mself\u001b[39m\u001b[38;5;241m.\u001b[39mengine\u001b[38;5;241m.\u001b[39m_has_events:\n\u001b[1;32m   1824\u001b[0m     \u001b[38;5;28mself\u001b[39m\u001b[38;5;241m.\u001b[39mdispatch\u001b[38;5;241m.\u001b[39mafter_cursor_execute(\n\u001b[1;32m   1825\u001b[0m         \u001b[38;5;28mself\u001b[39m,\n\u001b[1;32m   1826\u001b[0m         cursor,\n\u001b[0;32m   (...)\u001b[0m\n\u001b[1;32m   1830\u001b[0m         context\u001b[38;5;241m.\u001b[39mexecutemany,\n\u001b[1;32m   1831\u001b[0m     )\n",
      "File \u001b[0;32m~/miniconda3/envs/athena/lib/python3.9/site-packages/sqlalchemy/engine/default.py:732\u001b[0m, in \u001b[0;36mDefaultDialect.do_execute\u001b[0;34m(self, cursor, statement, parameters, context)\u001b[0m\n\u001b[1;32m    731\u001b[0m \u001b[38;5;28;01mdef\u001b[39;00m \u001b[38;5;21mdo_execute\u001b[39m(\u001b[38;5;28mself\u001b[39m, cursor, statement, parameters, context\u001b[38;5;241m=\u001b[39m\u001b[38;5;28;01mNone\u001b[39;00m):\n\u001b[0;32m--> 732\u001b[0m     \u001b[43mcursor\u001b[49m\u001b[38;5;241;43m.\u001b[39;49m\u001b[43mexecute\u001b[49m\u001b[43m(\u001b[49m\u001b[43mstatement\u001b[49m\u001b[43m,\u001b[49m\u001b[43m \u001b[49m\u001b[43mparameters\u001b[49m\u001b[43m)\u001b[49m\n",
      "\u001b[0;31mProgrammingError\u001b[0m: (psycopg2.errors.UndefinedColumn) column p.death_datetime does not exist\nLINE 16:             p.death_datetime\n                     ^\nHINT:  Perhaps you meant to reference the column \"p.birth_datetime\".\n\n[SQL: /*\n    Construct the cohort table used in an example End-of-Life prediction Model\n\n    Inclusion criteria:\n    - Enrolled in 95%% of months of training\n    - Enrolled in 95%% of days during outcome window, or expired during outcome window\n    - Patient over the age of 70 at prediction time\n*/\n\ncreate table results.__eol_cohort as\n\nwith\n    death_dates as (\n        select\n            p.person_id,\n            p.death_datetime\n        from\n            omopcdm.person p\n    ),\n    eligible_people as (\n        select p.person_id\n        from omopcdm.person p\n        where extract(\n            year from date '2017-01-01'\n        ) - p.year_of_birth > 70\n    ),\n    death_training_elig_counts as (\n        select\n            o.person_id,\n            o.observation_period_start_date as start,\n            o.observation_period_end_date as finish,\n            greatest(\n                least (\n                    o.observation_period_end_date,\n                    date '2017-01-01'\n                ) - greatest(\n                    o.observation_period_start_date,\n                    date '2016-01-01'\n                ), '0 day'\n            ) as num_days\n        from omopcdm.observation_period o\n        inner join eligible_people p\n        on o.person_id = p.person_id\n    ),\n    death_trainingwindow_elig_perc as (\n        select\n            person_id\n        from\n            death_training_elig_counts\n        group by\n            person_id\n        having\n            sum(num_days) >= ((0.95 * (date '2017-01-01' - date '2016-01-01'))::text || ' days')::interval\n    ),\n    death_testperiod_elig_counts as (\n        select\n            p.person_id,\n            p.observation_period_start_date as start,\n            p.observation_period_end_date as finish,\n            greatest(\n                    least (\n                        p.observation_period_end_date,\n                        date (\n                            date '2017-01-01'\n                            + interval '3 months'\n                            + interval '6 months'\n                        )\n                    ) - greatest(\n                        p.observation_period_start_date,\n                        date '2017-01-01'\n                    ), '0 day'\n            ) as num_days\n        from omopcdm.observation_period p\n        inner join \n            death_trainingwindow_elig_perc tr\n        on \n            tr.person_id = p.person_id\n    ), \n    death_testwindow_elig_perc as (\n        select\n            dtec.person_id\n        from\n            death_testperiod_elig_counts dtec\n        join \n            death_dates d  \n        on \n            dtec.person_id = d.person_id\n        group by \n            dtec.person_id, d.death_datetime  \n        having\n            (d.death_datetime >= date '2017-01-01' + interval '3 months' and\n             d.death_datetime <= date '2017-01-01' + interval '3 months' + interval '6 months') \n        or\n            sum(num_days) >= ((\n                0.95 * extract(\n                    epoch from (\n                        interval '3 months' \n                        + interval '6 months' --epoch returns the number of seconds in gap + outcome_window\n                    )\n                )/(24*60*60)\n            )::text || ' days')::interval --convert seconds to days\n    ) \n    \n    select\n        row_number() over (order by te.person_id) - 1 as example_id,\n        te.person_id,\n        date '2016-01-01' as start_date,\n        date '2017-01-01' as end_date,\n        d.death_datetime as outcome_date,\n        \n        coalesce(\n            (d.death_datetime between\n                date '2017-01-01'\n                 + interval '3 months'\n                and\n                date '2017-01-01'\n                 + interval '3 months'\n                 + interval '6 months'\n            ), false\n        )::int as y\n    from\n        death_testwindow_elig_perc te\n        left join death_dates d on d.person_id = te.person_id\n    where\n        (\n            d.death_datetime is null\n            or d.death_datetime >= (date '2017-01-01' + interval '3 months')\n        )\n    ;\n\n]\n(Background on this error at: https://sqlalche.me/e/14/f405)"
     ]
    }
   ],
   "source": [
    "cohort.build(db, replace=False)"
   ]
  },
  {
   "cell_type": "markdown",
   "metadata": {},
   "source": [
    "### Get Features for Cohort Members"
   ]
  },
  {
   "cell_type": "code",
   "execution_count": 13,
   "metadata": {},
   "outputs": [],
   "source": [
    "featureSet = FeatureGenerator.FeatureSet(db)\n",
    "featureSet.add_default_features(\n",
    "    ['drugs','conditions','procedures','specialty'],\n",
    "    schema_name,\n",
    "    cohort_name\n",
    ")"
   ]
  },
  {
   "cell_type": "code",
   "execution_count": 15,
   "metadata": {},
   "outputs": [
    {
     "name": "stdout",
     "output_type": "stream",
     "text": [
      "Data loaded to buffer in 1293.56 seconds\n",
      "Got Unique Concepts and Timestamps in 145.48 seconds\n",
      "Created Index Mappings in 0.04 seconds\n",
      "117788\n",
      "Generated Sparse Representation of Data in 340.02 seconds\n",
      "CPU times: user 25min 42s, sys: 2min 46s, total: 28min 28s\n",
      "Wall time: 29min 39s\n"
     ]
    }
   ],
   "source": [
    "%%time\n",
    "# Build the Feature Set by executing SQL queries and reading into sparse matrices\n",
    "cache_data_path = '/tmp/cache_data_eol_test_ancestors_cji'\n",
    "featureSet.build(cohort, from_cached=False, cache_file=cache_data_path)"
   ]
  },
  {
   "cell_type": "code",
   "execution_count": 16,
   "metadata": {},
   "outputs": [],
   "source": [
    "outcomes_filt, feature_matrix_3d_transpose, remap, good_feature_names = \\\n",
    "    FeatureGenerator.postprocess_feature_matrix(cohort, featureSet)"
   ]
  },
  {
   "cell_type": "markdown",
   "metadata": {},
   "source": [
    "#### Transform Data to get a vector of counts over 1, 6, 12, 24 and infinity (represented by 10000 days) month windows for each Patient"
   ]
  },
  {
   "cell_type": "code",
   "execution_count": 17,
   "metadata": {},
   "outputs": [
    {
     "name": "stdout",
     "output_type": "stream",
     "text": [
      "CPU times: user 19min 5s, sys: 39.9 s, total: 19min 44s\n",
      "Wall time: 14min 45s\n"
     ]
    }
   ],
   "source": [
    "%%time\n",
    "feature_matrix_counts, feature_names = data_utils.window_data(\n",
    "    window_lengths = [30, 180, 365, 730, 10000],\n",
    "    feature_matrix = feature_matrix_3d_transpose,\n",
    "    all_feature_names = good_feature_names,\n",
    "    cohort = cohort,\n",
    "    featureSet = featureSet\n",
    ")"
   ]
  },
  {
   "cell_type": "code",
   "execution_count": 25,
   "metadata": {},
   "outputs": [],
   "source": [
    "person_ids = []\n",
    "for i in range(feature_matrix_counts.shape[1]):\n",
    "    person_id = cohort._cohort.person_id.values[remap['id'][i]]\n",
    "    person_ids.append(person_id)"
   ]
  },
  {
   "cell_type": "code",
   "execution_count": 31,
   "metadata": {},
   "outputs": [],
   "source": [
    "with open('../omop-learn/eol_feature_matrix.pkl', 'wb') as f:\n",
    "    pickle.dump((feature_matrix_counts, outcomes_filt, feature_names, person_ids), f)"
   ]
  },
  {
   "cell_type": "markdown",
   "metadata": {},
   "source": [
    "### Extract ancestors"
   ]
  },
  {
   "cell_type": "code",
   "execution_count": 19,
   "metadata": {},
   "outputs": [
    {
     "name": "stdout",
     "output_type": "stream",
     "text": [
      "processing drug features\n",
      "get_ancestors took 216.77364230155945 seconds\n",
      "get_ancestor_feature_matrix took 59.18610453605652 seconds\n",
      "get_names took 9.90438723564148 seconds\n",
      "processing condition features\n",
      "get_ancestors took 82.0472161769867 seconds\n",
      "get_ancestor_feature_matrix took 846.5658640861511 seconds\n",
      "get_names took 9.366416215896606 seconds\n",
      "processing procedure features\n",
      "get_ancestors took 81.53965663909912 seconds\n",
      "get_ancestor_feature_matrix took 1828.3617527484894 seconds\n",
      "get_names took 30.180898904800415 seconds\n",
      "processing drug features\n",
      "get_ancestors took 27.9364070892334 seconds\n",
      "get_ancestor_feature_matrix took 54.28978657722473 seconds\n",
      "get_names took 9.710542917251587 seconds\n",
      "processing condition features\n",
      "get_ancestors took 24.02779459953308 seconds\n",
      "get_ancestor_feature_matrix took 765.7156796455383 seconds\n",
      "get_names took 9.245504379272461 seconds\n",
      "processing procedure features\n",
      "get_ancestors took 50.6096088886261 seconds\n",
      "get_ancestor_feature_matrix took 1300.7032051086426 seconds\n",
      "get_names took 21.814294815063477 seconds\n",
      "processing drug features\n",
      "get_ancestors took 18.293655157089233 seconds\n",
      "get_ancestor_feature_matrix took 55.792274475097656 seconds\n",
      "get_names took 6.9366021156311035 seconds\n",
      "processing condition features\n",
      "get_ancestors took 15.79487156867981 seconds\n",
      "get_ancestor_feature_matrix took 783.5035462379456 seconds\n",
      "get_names took 7.389598846435547 seconds\n",
      "processing procedure features\n",
      "get_ancestors took 33.22196817398071 seconds\n",
      "get_ancestor_feature_matrix took 1399.9654881954193 seconds\n",
      "get_names took 18.89700222015381 seconds\n",
      "processing drug features\n",
      "get_ancestors took 18.305938005447388 seconds\n",
      "get_ancestor_feature_matrix took 54.26977729797363 seconds\n",
      "get_names took 7.101449489593506 seconds\n",
      "processing condition features\n",
      "get_ancestors took 16.02469491958618 seconds\n",
      "get_ancestor_feature_matrix took 788.1888568401337 seconds\n",
      "get_names took 7.650474548339844 seconds\n",
      "processing procedure features\n",
      "get_ancestors took 32.29062294960022 seconds\n",
      "get_ancestor_feature_matrix took 1334.916382074356 seconds\n",
      "get_names took 18.315431833267212 seconds\n",
      "processing drug features\n",
      "get_ancestors took 18.46680450439453 seconds\n",
      "get_ancestor_feature_matrix took 54.22104787826538 seconds\n",
      "get_names took 6.928797006607056 seconds\n",
      "processing condition features\n",
      "get_ancestors took 15.308971881866455 seconds\n",
      "get_ancestor_feature_matrix took 756.5730724334717 seconds\n",
      "get_names took 7.969640493392944 seconds\n",
      "processing procedure features\n",
      "get_ancestors took 32.694273710250854 seconds\n",
      "get_ancestor_feature_matrix took 1342.370505809784 seconds\n",
      "get_names took 18.554970741271973 seconds\n"
     ]
    }
   ],
   "source": [
    "for n_days in [30, 180, 365, 730, 10000]:\n",
    "    get_ancestor_matrix(n_days, feature_matrix_counts, feature_names, 'eol_')"
   ]
  },
  {
   "cell_type": "markdown",
   "metadata": {},
   "source": [
    "### Merge ancestor and feature matrices"
   ]
  },
  {
   "cell_type": "code",
   "execution_count": 2,
   "metadata": {},
   "outputs": [],
   "source": [
    "with open('eol_feature_matrix.pkl', 'rb') as f:\n",
    "    feature_matrix, outcomes, feature_names, person_ids = pickle.load(f)\n",
    "feature_matrix = feature_matrix.T"
   ]
  },
  {
   "cell_type": "code",
   "execution_count": 3,
   "metadata": {},
   "outputs": [],
   "source": [
    "for n_days in [30, 180, 365, 730, 10000]:\n",
    "    with open('eol_ancestor_' + str(n_days) + 'days.pkl', 'rb') as f:\n",
    "        anc_matrix, anc_codes, anc_names, _, _, _, _, _ = pickle.load(f)\n",
    "    anc_matrix = scipy.sparse.lil_matrix(anc_matrix)\n",
    "    full_anc_names = []\n",
    "    for i in range(len(anc_codes)):\n",
    "        full_anc_names.append(str(anc_codes[i]) + ' - anc - ' + anc_names[i] + ' - ' + str(n_days) + ' days')\n",
    "    orig_feature_idxs = []\n",
    "    orig_feature_names = []\n",
    "    for idx in range(len(feature_names)):\n",
    "        feat_name = feature_names[idx]\n",
    "        if feat_name[feat_name.rindex(' - ')+len(' - '):] == str(n_days) + ' days':\n",
    "            feat_code = int(feat_name[:feat_name.index(' ')])\n",
    "            if feat_code not in anc_codes:\n",
    "                orig_feature_idxs.append(idx)\n",
    "                orig_feature_names.append(feat_name)\n",
    "            else:\n",
    "                # features that are also ancestors are merged\n",
    "                nonzero_idxs = np.nonzero(feature_matrix[:,idx])[0]\n",
    "                anc_idx = anc_codes.index(feat_code)\n",
    "                for i in nonzero_idxs:\n",
    "                    anc_matrix[i,anc_idx] = anc_matrix[i,anc_idx] + feature_matrix[i,idx]\n",
    "    if n_days == 30:\n",
    "        all_names = orig_feature_names + full_anc_names\n",
    "        all_matrix = scipy.sparse.hstack((feature_matrix[:,orig_feature_idxs], anc_matrix), format='csr')\n",
    "    else:\n",
    "        all_names += orig_feature_names + full_anc_names\n",
    "        all_matrix = scipy.sparse.hstack((all_matrix, feature_matrix[:,orig_feature_idxs], anc_matrix), format='csr')"
   ]
  },
  {
   "cell_type": "code",
   "execution_count": 4,
   "metadata": {},
   "outputs": [],
   "source": [
    "with open('eol_feature_anc_matrix.pkl', 'wb') as f:\n",
    "    pickle.dump((all_matrix, outcomes, all_names, person_ids), f)"
   ]
  },
  {
   "cell_type": "markdown",
   "metadata": {},
   "source": [
    "### Use binary features instead of counts for logistic regression"
   ]
  },
  {
   "cell_type": "code",
   "execution_count": 7,
   "metadata": {},
   "outputs": [],
   "source": [
    "def sparse_ufunc(f):\n",
    "    def wrapper(*a, **k):\n",
    "        X = a[0]\n",
    "        if not scipy.sparse.isspmatrix(X):\n",
    "            raise ValueError\n",
    "        X2 = X.copy()\n",
    "        X2.data = f(X2.data, *(a[1:]), **k)\n",
    "        return X2\n",
    "    return wrapper\n",
    "\n",
    "@sparse_ufunc\n",
    "def tr_func(X, kwarg=1):\n",
    "    return np.clip(X, 0, kwarg)\n",
    "\n",
    "all_matrix = tr_func(all_matrix)\n",
    "feature_matrix = tr_func(feature_matrix)"
   ]
  },
  {
   "cell_type": "markdown",
   "metadata": {},
   "source": [
    "### Split data into train/valid/test"
   ]
  },
  {
   "cell_type": "code",
   "execution_count": 12,
   "metadata": {},
   "outputs": [
    {
     "name": "stdout",
     "output_type": "stream",
     "text": [
      "(92734, 386540)\n",
      "(5000, 386540)\n",
      "(18184, 386540)\n",
      "(92734, 179540)\n",
      "(5000, 179540)\n",
      "(18184, 179540)\n"
     ]
    }
   ],
   "source": [
    "# split matches SARD notebook\n",
    "val_size = 5000\n",
    "indices_all = range(all_matrix.shape[0])\n",
    "train_anc_matrix, test_anc_matrix, train_outcomes, test_outcomes, train_idxs, test_idxs = train_test_split(\n",
    "    all_matrix, outcomes.values, indices_all,\n",
    "    test_size=0.2, random_state=1\n",
    ")\n",
    "valid_anc_matrix = test_anc_matrix[:val_size]\n",
    "test_anc_matrix = test_anc_matrix[val_size:]\n",
    "valid_idxs = test_idxs[:val_size]\n",
    "test_idxs = test_idxs[val_size:]\n",
    "valid_outcomes = test_outcomes[:val_size]\n",
    "test_outcomes = test_outcomes[val_size:]\n",
    "print(train_anc_matrix.shape)\n",
    "print(valid_anc_matrix.shape)\n",
    "print(test_anc_matrix.shape)\n",
    "train_nonanc_matrix = feature_matrix[train_idxs]\n",
    "valid_nonanc_matrix = feature_matrix[valid_idxs]\n",
    "test_nonanc_matrix = feature_matrix[test_idxs]\n",
    "print(train_nonanc_matrix.shape)\n",
    "print(valid_nonanc_matrix.shape)\n",
    "print(test_nonanc_matrix.shape)"
   ]
  },
  {
   "cell_type": "markdown",
   "metadata": {},
   "source": [
    "### Train and evaluate logistic regressions"
   ]
  },
  {
   "cell_type": "code",
   "execution_count": 13,
   "metadata": {},
   "outputs": [],
   "source": [
    "def train_logreg_with_eval(X_train, y_train, X_valid, y_valid, X_test, y_test, feat_names, filename_header, \\\n",
    "                           Cs=[0.00001, 0.0001, 0.001, 0.01, 0.1, 1]):\n",
    "    best_valid_auc = -1\n",
    "    for C in Cs:\n",
    "        print(C)\n",
    "        logreg = LogisticRegression(penalty='l1', C=C, solver='liblinear', random_state=0, \\\n",
    "                                    class_weight='balanced', max_iter=200, tol=1e-1)\n",
    "        logreg.fit(X_train, y_train)\n",
    "        valid_pred = logreg.predict_proba(X_valid)[:,1]\n",
    "        valid_auc = roc_auc_score(y_valid, valid_pred)\n",
    "        if valid_auc > best_valid_auc:\n",
    "            best_valid_auc = valid_auc\n",
    "            best_logreg = logreg\n",
    "        train_pred = logreg.predict_proba(X_train)[:,1]\n",
    "        test_pred = logreg.predict_proba(X_test)[:,1]\n",
    "        train_auc = roc_auc_score(y_train, train_pred)\n",
    "        test_auc = roc_auc_score(y_test, test_pred)\n",
    "        print('Train AUC: ' + str(train_auc))\n",
    "        print('Valid AUC: ' + str(valid_auc))\n",
    "        print('Test AUC: ' + str(test_auc))\n",
    "        nonzero_feat_idxs = np.nonzero(logreg.coef_.flatten())[0]\n",
    "        sorted_nonzero_idxs = nonzero_feat_idxs[np.argsort(logreg.coef_.flatten()[nonzero_feat_idxs])]\n",
    "        output_str = ''\n",
    "        if 'noancestors' not in filename_header:\n",
    "            orig_count = 0\n",
    "            anc_count = 0\n",
    "        for i in sorted_nonzero_idxs:\n",
    "            output_str += feat_names[i]  + ': ' + str(logreg.coef_[0,i]) + '\\n'\n",
    "            if 'noancestors' not in filename_header and ' - ' in feat_names[i]:\n",
    "                name_parts = feat_names[i].split(' - ')\n",
    "                if name_parts[1] == 'anc':\n",
    "                    anc_count += 1\n",
    "                else:\n",
    "                    orig_count += 1\n",
    "        if 'noancestors' not in filename_header:\n",
    "            print('Number of features with nonzero coefficients: ' + str(orig_count))\n",
    "            print('Number of ancestors with nonzero coefficients: ' + str(anc_count))\n",
    "        else:\n",
    "            print('Number of features with nonzero coefficients: ' + str(len(nonzero_feat_idxs)))\n",
    "        with open(filename_header + 'C' + '{:.1e}'.format(C) + '_coefs.txt', 'w') as f:\n",
    "            f.write(output_str)\n",
    "    \n",
    "    return best_logreg"
   ]
  },
  {
   "cell_type": "code",
   "execution_count": 14,
   "metadata": {},
   "outputs": [],
   "source": [
    "def plot_roc_curve(test_outcomes, test_pred, model_name):\n",
    "    fpr, tpr, _ = roc_curve(test_outcomes, test_pred)\n",
    "    plt.figure()\n",
    "    lw = 2\n",
    "    plt.fill_between(fpr, tpr, color='b', alpha = 0.2,\n",
    "                     lw=lw, label='ROC curve (area = %0.2f)' % roc_auc_score(test_outcomes, test_pred))\n",
    "    plt.plot([0, 1], [0, 1], color='navy', lw=lw, linestyle='--')\n",
    "    plt.xlim([0.0, 1.0])\n",
    "    plt.ylim([0.0, 1.05])\n",
    "    plt.xlabel('False Positive Rate')\n",
    "    plt.ylabel('True Positive Rate')\n",
    "    plt.title('Receiver operating characteristic - ' + model_name)\n",
    "    plt.legend(loc=\"lower right\")\n",
    "    plt.show()"
   ]
  },
  {
   "cell_type": "code",
   "execution_count": 21,
   "metadata": {},
   "outputs": [],
   "source": [
    "def plot_precision_recall_curve(test_outcomes, test_pred, model_name):\n",
    "    precision, recall, _ = precision_recall_curve(test_outcomes, test_pred)\n",
    "    average_precision = average_precision_score(test_outcomes, test_pred)\n",
    "    plt.figure()\n",
    "    plt.step(recall, precision, color='b', alpha=0.2, where='post')\n",
    "    plt.fill_between(recall, precision, alpha=0.2, color='b', \\\n",
    "                     label='P-R curve (average precision = %0.2f)' % average_precision)\n",
    "    plt.xlabel('Recall')\n",
    "    plt.ylabel('Precision')\n",
    "    plt.ylim([0.0, 0.5])\n",
    "    plt.xlim([0.0, 1.0])\n",
    "    plt.legend(loc=\"upper right\")\n",
    "    plt.title('Precision-Recall curve - ' + model_name)\n",
    "    plt.show()"
   ]
  },
  {
   "cell_type": "code",
   "execution_count": 16,
   "metadata": {},
   "outputs": [],
   "source": [
    "reg_lambdas = [10, 1, 0.1, 0.01, 0.001, 0.0001] + [20, 2, 0.2, 0.02, 0.002, 0.0002] \\\n",
    "    + [40, 4, 0.4, 0.04, 0.004, 0.0004] + [80, 8, 0.8, 0.08, 0.008, 0.0008]\n",
    "reg_lambdas = sorted(reg_lambdas)"
   ]
  },
  {
   "cell_type": "code",
   "execution_count": 18,
   "metadata": {},
   "outputs": [
    {
     "name": "stdout",
     "output_type": "stream",
     "text": [
      "0.0001\n",
      "Train AUC: 0.5\n",
      "Valid AUC: 0.5\n",
      "Test AUC: 0.5\n",
      "Number of features with nonzero coefficients: 0\n",
      "Number of ancestors with nonzero coefficients: 0\n",
      "0.0002\n",
      "Train AUC: 0.7383446327292085\n",
      "Valid AUC: 0.8010375424208145\n",
      "Test AUC: 0.760760931328057\n",
      "Number of features with nonzero coefficients: 2\n",
      "Number of ancestors with nonzero coefficients: 6\n",
      "0.0004\n",
      "Train AUC: 0.7921215829012982\n",
      "Valid AUC: 0.8396974374685772\n",
      "Test AUC: 0.7928862972859512\n",
      "Number of features with nonzero coefficients: 4\n",
      "Number of ancestors with nonzero coefficients: 47\n",
      "0.0008\n",
      "Train AUC: 0.8139107604766126\n",
      "Valid AUC: 0.8578588486676721\n",
      "Test AUC: 0.8145120813342064\n",
      "Number of features with nonzero coefficients: 7\n",
      "Number of ancestors with nonzero coefficients: 100\n",
      "0.001\n",
      "Train AUC: 0.8209587075099529\n",
      "Valid AUC: 0.8656359979889392\n",
      "Test AUC: 0.822487747581981\n",
      "Number of features with nonzero coefficients: 8\n",
      "Number of ancestors with nonzero coefficients: 103\n",
      "0.002\n",
      "Train AUC: 0.8414915455092814\n",
      "Valid AUC: 0.8739993793991956\n",
      "Test AUC: 0.8391713394076102\n",
      "Number of features with nonzero coefficients: 19\n",
      "Number of ancestors with nonzero coefficients: 242\n",
      "0.004\n",
      "Train AUC: 0.862442676889704\n",
      "Valid AUC: 0.8703199629210658\n",
      "Test AUC: 0.8474351513335948\n",
      "Number of features with nonzero coefficients: 53\n",
      "Number of ancestors with nonzero coefficients: 489\n",
      "0.008\n",
      "Train AUC: 0.8930212923303024\n",
      "Valid AUC: 0.8682323089492208\n",
      "Test AUC: 0.8468269105905002\n",
      "Number of features with nonzero coefficients: 186\n",
      "Number of ancestors with nonzero coefficients: 988\n",
      "0.01\n",
      "Train AUC: 0.9059807787133547\n",
      "Valid AUC: 0.8639529128959276\n",
      "Test AUC: 0.845659899122388\n",
      "Number of features with nonzero coefficients: 267\n",
      "Number of ancestors with nonzero coefficients: 1269\n",
      "0.02\n",
      "Train AUC: 0.9460584040889015\n",
      "Valid AUC: 0.8482159690799398\n",
      "Test AUC: 0.8194871676834359\n",
      "Number of features with nonzero coefficients: 560\n",
      "Number of ancestors with nonzero coefficients: 2040\n",
      "0.04\n",
      "Train AUC: 0.9724497896420097\n",
      "Valid AUC: 0.8208133012820513\n",
      "Test AUC: 0.7745829917955349\n",
      "Number of features with nonzero coefficients: 1030\n",
      "Number of ancestors with nonzero coefficients: 3353\n",
      "0.08\n",
      "Train AUC: 0.9874707379338099\n",
      "Valid AUC: 0.78316090057818\n",
      "Test AUC: 0.7303049208239231\n",
      "Number of features with nonzero coefficients: 1703\n",
      "Number of ancestors with nonzero coefficients: 4946\n",
      "0.1\n",
      "Train AUC: 0.9901135268327714\n",
      "Valid AUC: 0.7725439133986929\n",
      "Test AUC: 0.7247204772207744\n",
      "Number of features with nonzero coefficients: 2336\n",
      "Number of ancestors with nonzero coefficients: 6679\n",
      "0.2\n",
      "Train AUC: 0.9970038345786766\n",
      "Valid AUC: 0.737051831950729\n",
      "Test AUC: 0.6905681288034371\n",
      "Number of features with nonzero coefficients: 2881\n",
      "Number of ancestors with nonzero coefficients: 7515\n",
      "0.4\n",
      "Train AUC: 0.9994343685184448\n",
      "Valid AUC: 0.7143154537456008\n",
      "Test AUC: 0.6651649309790185\n",
      "Number of features with nonzero coefficients: 3972\n",
      "Number of ancestors with nonzero coefficients: 10033\n",
      "0.8\n",
      "Train AUC: 0.9999081996273719\n",
      "Valid AUC: 0.7149792609351432\n",
      "Test AUC: 0.6504098110039185\n",
      "Number of features with nonzero coefficients: 5829\n",
      "Number of ancestors with nonzero coefficients: 13992\n",
      "1\n",
      "Train AUC: 0.9999548897279664\n",
      "Valid AUC: 0.7088910884866767\n",
      "Test AUC: 0.6450198120551565\n",
      "Number of features with nonzero coefficients: 6336\n",
      "Number of ancestors with nonzero coefficients: 14914\n",
      "2\n",
      "Train AUC: 0.999999130800643\n",
      "Valid AUC: 0.6934428418803418\n",
      "Test AUC: 0.632806557800563\n",
      "Number of features with nonzero coefficients: 5333\n",
      "Number of ancestors with nonzero coefficients: 12773\n",
      "4\n",
      "Train AUC: 0.9999999060325019\n",
      "Valid AUC: 0.7001064448215184\n",
      "Test AUC: 0.6245497025958705\n",
      "Number of features with nonzero coefficients: 7011\n",
      "Number of ancestors with nonzero coefficients: 16023\n",
      "8\n",
      "Train AUC: 0.9999999941270314\n",
      "Valid AUC: 0.7116504053544497\n",
      "Test AUC: 0.627272443069972\n",
      "Number of features with nonzero coefficients: 9571\n",
      "Number of ancestors with nonzero coefficients: 21019\n",
      "10\n",
      "Train AUC: 1.0\n",
      "Valid AUC: 0.7099437531422825\n",
      "Test AUC: 0.6248059847728535\n",
      "Number of features with nonzero coefficients: 10119\n",
      "Number of ancestors with nonzero coefficients: 22045\n",
      "20\n",
      "Train AUC: 1.0000000000000002\n",
      "Valid AUC: 0.6970309357717446\n",
      "Test AUC: 0.6196386009054387\n",
      "Number of features with nonzero coefficients: 13139\n",
      "Number of ancestors with nonzero coefficients: 27328\n",
      "40\n",
      "Train AUC: 0.9999999941270314\n",
      "Valid AUC: 0.6729747988939165\n",
      "Test AUC: 0.6039993761281054\n",
      "Number of features with nonzero coefficients: 18434\n",
      "Number of ancestors with nonzero coefficients: 36215\n",
      "80\n",
      "Train AUC: 0.9999999941270313\n",
      "Valid AUC: 0.6764843357214682\n",
      "Test AUC: 0.578762796072905\n",
      "Number of features with nonzero coefficients: 25100\n",
      "Number of ancestors with nonzero coefficients: 46789\n"
     ]
    }
   ],
   "source": [
    "anc_logreg = train_logreg_with_eval(train_anc_matrix, train_outcomes, valid_anc_matrix, valid_outcomes, \\\n",
    "                                    test_anc_matrix, test_outcomes, all_names, \\\n",
    "                                    'eol_ancestors_logreg_2021Mar29_', Cs=reg_lambdas)\n",
    "# See text files for features with nonzero coefficients"
   ]
  },
  {
   "cell_type": "code",
   "execution_count": 19,
   "metadata": {},
   "outputs": [
    {
     "data": {
      "text/plain": [
       "0.002"
      ]
     },
     "execution_count": 19,
     "metadata": {},
     "output_type": "execute_result"
    }
   ],
   "source": [
    "anc_logreg.C"
   ]
  },
  {
   "cell_type": "code",
   "execution_count": 22,
   "metadata": {},
   "outputs": [
    {
     "data": {
      "image/png": "[encoded data removed]",
      "text/plain": [
       "<Figure size 432x288 with 1 Axes>"
      ]
     },
     "metadata": {
      "needs_background": "light"
     },
     "output_type": "display_data"
    },
    {
     "data": {
      "image/png": "[encoded data removed]",
      "text/plain": [
       "<Figure size 432x288 with 1 Axes>"
      ]
     },
     "metadata": {
      "needs_background": "light"
     },
     "output_type": "display_data"
    }
   ],
   "source": [
    "test_anc_pred = anc_logreg.predict_proba(test_anc_matrix)[:,1]\n",
    "plot_roc_curve(test_outcomes, test_anc_pred, 'EoL model with ancestors')\n",
    "plot_precision_recall_curve(test_outcomes, test_anc_pred, 'EoL model with ancestors')"
   ]
  },
  {
   "cell_type": "code",
   "execution_count": 23,
   "metadata": {},
   "outputs": [
    {
     "name": "stdout",
     "output_type": "stream",
     "text": [
      "0.0001\n",
      "Train AUC: 0.5\n",
      "Valid AUC: 0.5\n",
      "Test AUC: 0.5\n",
      "Number of features with nonzero coefficients: 0\n",
      "0.0002\n",
      "Train AUC: 0.7307045583163467\n",
      "Valid AUC: 0.7745029301784816\n",
      "Test AUC: 0.7464652985000277\n",
      "Number of features with nonzero coefficients: 4\n",
      "0.0004\n",
      "Train AUC: 0.7702617887511978\n",
      "Valid AUC: 0.8189338235294117\n",
      "Test AUC: 0.7845755060198829\n",
      "Number of features with nonzero coefficients: 14\n",
      "0.0008\n",
      "Train AUC: 0.7982053499925179\n",
      "Valid AUC: 0.837103090434892\n",
      "Test AUC: 0.8039445640351593\n",
      "Number of features with nonzero coefficients: 36\n",
      "0.001\n",
      "Train AUC: 0.8045838079670813\n",
      "Valid AUC: 0.841621103569633\n",
      "Test AUC: 0.8082587618616393\n",
      "Number of features with nonzero coefficients: 46\n",
      "0.002\n",
      "Train AUC: 0.8236587431706184\n",
      "Valid AUC: 0.8543689511060835\n",
      "Test AUC: 0.827129426621878\n",
      "Number of features with nonzero coefficients: 104\n",
      "0.004\n",
      "Train AUC: 0.8458674562598916\n",
      "Valid AUC: 0.8661063584087483\n",
      "Test AUC: 0.8389984520006843\n",
      "Number of features with nonzero coefficients: 221\n",
      "0.008\n",
      "Train AUC: 0.8758705736316393\n",
      "Valid AUC: 0.8635021917420814\n",
      "Test AUC: 0.8461947936928476\n",
      "Number of features with nonzero coefficients: 548\n",
      "0.01\n",
      "Train AUC: 0.8881884910487735\n",
      "Valid AUC: 0.8578725961538461\n",
      "Test AUC: 0.845529181470455\n",
      "Number of features with nonzero coefficients: 709\n",
      "0.02\n",
      "Train AUC: 0.9280233572660719\n",
      "Valid AUC: 0.8307566616390145\n",
      "Test AUC: 0.8310975060927138\n",
      "Number of features with nonzero coefficients: 1385\n",
      "0.04\n",
      "Train AUC: 0.9608455553725799\n",
      "Valid AUC: 0.7970046191553545\n",
      "Test AUC: 0.7832617163210522\n",
      "Number of features with nonzero coefficients: 2506\n",
      "0.08\n",
      "Train AUC: 0.9808450514718717\n",
      "Valid AUC: 0.7640460030165912\n",
      "Test AUC: 0.7348156245555428\n",
      "Number of features with nonzero coefficients: 3789\n",
      "0.1\n",
      "Train AUC: 0.9852286176370886\n",
      "Valid AUC: 0.7516006001759679\n",
      "Test AUC: 0.7223244449910575\n",
      "Number of features with nonzero coefficients: 4287\n",
      "0.2\n",
      "Train AUC: 0.994356174052238\n",
      "Valid AUC: 0.7200128048014078\n",
      "Test AUC: 0.6930258267848541\n",
      "Number of features with nonzero coefficients: 6019\n",
      "0.4\n",
      "Train AUC: 0.9986237931343118\n",
      "Valid AUC: 0.6958918583459025\n",
      "Test AUC: 0.6642902735760707\n",
      "Number of features with nonzero coefficients: 7678\n",
      "0.8\n",
      "Train AUC: 0.999688162984746\n",
      "Valid AUC: 0.696127529537456\n",
      "Test AUC: 0.6424188571463907\n",
      "Number of features with nonzero coefficients: 9398\n",
      "1\n",
      "Train AUC: 0.99980566934106\n",
      "Valid AUC: 0.6942873303167422\n",
      "Test AUC: 0.6407956221782336\n",
      "Number of features with nonzero coefficients: 10085\n",
      "2\n",
      "Train AUC: 0.9999448763164552\n",
      "Valid AUC: 0.6983467665912518\n",
      "Test AUC: 0.6330006589131575\n",
      "Number of features with nonzero coefficients: 12326\n",
      "4\n",
      "Train AUC: 0.999981799670221\n",
      "Valid AUC: 0.7111613876319759\n",
      "Test AUC: 0.6210926415409361\n",
      "Number of features with nonzero coefficients: 16046\n",
      "8\n",
      "Train AUC: 0.9999971222453723\n",
      "Valid AUC: 0.7100989033433888\n",
      "Test AUC: 0.6136516980927247\n",
      "Number of features with nonzero coefficients: 19799\n",
      "10\n",
      "Train AUC: 0.9999988371522115\n",
      "Valid AUC: 0.7193273944193062\n",
      "Test AUC: 0.6111395487372434\n",
      "Number of features with nonzero coefficients: 20176\n",
      "20\n",
      "Train AUC: 0.9999997122245373\n",
      "Valid AUC: 0.7026163430115637\n",
      "Test AUC: 0.6004310075324973\n",
      "Number of features with nonzero coefficients: 24156\n",
      "40\n",
      "Train AUC: 0.9999989663575214\n",
      "Valid AUC: 0.6950689731020613\n",
      "Test AUC: 0.5705516319265755\n",
      "Number of features with nonzero coefficients: 35322\n",
      "80\n",
      "Train AUC: 0.9999992365140784\n",
      "Valid AUC: 0.6788822900955255\n",
      "Test AUC: 0.5618050578970982\n",
      "Number of features with nonzero coefficients: 41249\n"
     ]
    }
   ],
   "source": [
    "nonanc_logreg = train_logreg_with_eval(train_nonanc_matrix, train_outcomes, valid_nonanc_matrix, valid_outcomes, \\\n",
    "                                       test_nonanc_matrix, test_outcomes, feature_names, \\\n",
    "                                       'eol_noancestors_logreg_2021Mar29_', Cs=reg_lambdas)"
   ]
  },
  {
   "cell_type": "code",
   "execution_count": 24,
   "metadata": {},
   "outputs": [
    {
     "data": {
      "text/plain": [
       "0.004"
      ]
     },
     "execution_count": 24,
     "metadata": {},
     "output_type": "execute_result"
    }
   ],
   "source": [
    "nonanc_logreg.C"
   ]
  },
  {
   "cell_type": "code",
   "execution_count": 25,
   "metadata": {},
   "outputs": [
    {
     "data": {
      "image/png": "[encoded data removed]",
      "text/plain": [
       "<Figure size 432x288 with 1 Axes>"
      ]
     },
     "metadata": {
      "needs_background": "light"
     },
     "output_type": "display_data"
    },
    {
     "data": {
      "image/png": "[encoded data removed]",
      "text/plain": [
       "<Figure size 432x288 with 1 Axes>"
      ]
     },
     "metadata": {
      "needs_background": "light"
     },
     "output_type": "display_data"
    }
   ],
   "source": [
    "test_nonanc_pred = nonanc_logreg.predict_proba(test_nonanc_matrix)[:,1]\n",
    "plot_roc_curve(test_outcomes, test_nonanc_pred, 'EoL model without ancestors')\n",
    "plot_precision_recall_curve(test_outcomes, test_nonanc_pred, 'EoL model without ancestors')"
   ]
  },
  {
   "cell_type": "code",
   "execution_count": null,
   "metadata": {},
   "outputs": [],
   "source": []
  }
 ],
 "metadata": {
  "kernelspec": {
   "display_name": "Python [conda env:athena]",
   "language": "python",
   "name": "conda-env-athena-py"
  },
  "language_info": {
   "codemirror_mode": {
    "name": "ipython",
    "version": 3
   },
   "file_extension": ".py",
   "mimetype": "text/x-python",
   "name": "python",
   "nbconvert_exporter": "python",
   "pygments_lexer": "ipython3",
   "version": "3.9.0"
  },
  "toc": {
   "base_numbering": 1,
   "nav_menu": {},
   "number_sections": true,
   "sideBar": true,
   "skip_h1_title": false,
   "title_cell": "Table of Contents",
   "title_sidebar": "Contents",
   "toc_cell": false,
   "toc_position": {},
   "toc_section_display": true,
   "toc_window_display": false
  },
  "vscode": {
   "interpreter": {
    "hash": "31f2aee4e71d21fbe5cf8b01ff0e069b9275f58929596ceb00d14d90e3e16cd6"
   }
  }
 },
 "nbformat": 4,
 "nbformat_minor": 4
}
